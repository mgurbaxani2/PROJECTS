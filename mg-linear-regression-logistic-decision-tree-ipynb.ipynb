{
 "cells": [
  {
   "cell_type": "code",
   "execution_count": 1,
   "id": "8c2c46b5",
   "metadata": {
    "_cell_guid": "b1076dfc-b9ad-4769-8c92-a6c4dae69d19",
    "_uuid": "8f2839f25d086af736a60e9eeb907d3b93b6e0e5",
    "execution": {
     "iopub.execute_input": "2024-07-02T13:24:05.146779Z",
     "iopub.status.busy": "2024-07-02T13:24:05.146393Z",
     "iopub.status.idle": "2024-07-02T13:24:05.908187Z",
     "shell.execute_reply": "2024-07-02T13:24:05.907094Z"
    },
    "papermill": {
     "duration": 0.780208,
     "end_time": "2024-07-02T13:24:05.911013",
     "exception": false,
     "start_time": "2024-07-02T13:24:05.130805",
     "status": "completed"
    },
    "tags": []
   },
   "outputs": [
    {
     "name": "stdout",
     "output_type": "stream",
     "text": [
      "/kaggle/input/advertising-budget-and-sales-csv/Advertising Budget and Sales.csv\n",
      "/kaggle/input/advert-csv/Advertising Budget and Sales.csv\n"
     ]
    }
   ],
   "source": [
    "# This Python 3 environment comes with many helpful analytics libraries installed\n",
    "# It is defined by the kaggle/python Docker image: https://github.com/kaggle/docker-python\n",
    "# For example, here's several helpful packages to load\n",
    "\n",
    "import numpy as np # linear algebra\n",
    "import pandas as pd # data processing, CSV file I/O (e.g. pd.read_csv)\n",
    "\n",
    "# Input data files are available in the read-only \"../input/\" directory\n",
    "# For example, running this (by clicking run or pressing Shift+Enter) will list all files under the input directory\n",
    "\n",
    "import os\n",
    "for dirname, _, filenames in os.walk('/kaggle/input'):\n",
    "    for filename in filenames:\n",
    "        print(os.path.join(dirname, filename))\n",
    "\n",
    "# You can write up to 20GB to the current directory (/kaggle/working/) that gets preserved as output when you create a version using \"Save & Run All\" \n",
    "# You can also write temporary files to /kaggle/temp/, but they won't be saved outside of the current session"
   ]
  },
  {
   "cell_type": "code",
   "execution_count": 2,
   "id": "02159d6f",
   "metadata": {
    "execution": {
     "iopub.execute_input": "2024-07-02T13:24:05.939906Z",
     "iopub.status.busy": "2024-07-02T13:24:05.939426Z",
     "iopub.status.idle": "2024-07-02T13:24:07.067966Z",
     "shell.execute_reply": "2024-07-02T13:24:07.067097Z"
    },
    "papermill": {
     "duration": 1.145581,
     "end_time": "2024-07-02T13:24:07.070403",
     "exception": false,
     "start_time": "2024-07-02T13:24:05.924822",
     "status": "completed"
    },
    "tags": []
   },
   "outputs": [],
   "source": [
    "import pandas as pd\n",
    "import numpy as np\n",
    "import matplotlib.pyplot as plt\n",
    "from sklearn.linear_model import LinearRegression\n",
    "from sklearn.metrics import r2_score"
   ]
  },
  {
   "cell_type": "code",
   "execution_count": 3,
   "id": "528deca7",
   "metadata": {
    "execution": {
     "iopub.execute_input": "2024-07-02T13:24:07.098888Z",
     "iopub.status.busy": "2024-07-02T13:24:07.098517Z",
     "iopub.status.idle": "2024-07-02T13:24:07.137313Z",
     "shell.execute_reply": "2024-07-02T13:24:07.136338Z"
    },
    "papermill": {
     "duration": 0.055594,
     "end_time": "2024-07-02T13:24:07.139559",
     "exception": false,
     "start_time": "2024-07-02T13:24:07.083965",
     "status": "completed"
    },
    "tags": []
   },
   "outputs": [
    {
     "data": {
      "text/html": [
       "<div>\n",
       "<style scoped>\n",
       "    .dataframe tbody tr th:only-of-type {\n",
       "        vertical-align: middle;\n",
       "    }\n",
       "\n",
       "    .dataframe tbody tr th {\n",
       "        vertical-align: top;\n",
       "    }\n",
       "\n",
       "    .dataframe thead th {\n",
       "        text-align: right;\n",
       "    }\n",
       "</style>\n",
       "<table border=\"1\" class=\"dataframe\">\n",
       "  <thead>\n",
       "    <tr style=\"text-align: right;\">\n",
       "      <th></th>\n",
       "      <th>Unnamed: 0</th>\n",
       "      <th>TV Ad Budget ($)</th>\n",
       "      <th>Radio Ad Budget ($)</th>\n",
       "      <th>Newspaper Ad Budget ($)</th>\n",
       "      <th>Sales ($)</th>\n",
       "    </tr>\n",
       "  </thead>\n",
       "  <tbody>\n",
       "    <tr>\n",
       "      <th>0</th>\n",
       "      <td>1</td>\n",
       "      <td>230.1</td>\n",
       "      <td>37.8</td>\n",
       "      <td>69.2</td>\n",
       "      <td>22.1</td>\n",
       "    </tr>\n",
       "    <tr>\n",
       "      <th>1</th>\n",
       "      <td>2</td>\n",
       "      <td>44.5</td>\n",
       "      <td>39.3</td>\n",
       "      <td>45.1</td>\n",
       "      <td>10.4</td>\n",
       "    </tr>\n",
       "    <tr>\n",
       "      <th>2</th>\n",
       "      <td>3</td>\n",
       "      <td>17.2</td>\n",
       "      <td>45.9</td>\n",
       "      <td>69.3</td>\n",
       "      <td>9.3</td>\n",
       "    </tr>\n",
       "    <tr>\n",
       "      <th>3</th>\n",
       "      <td>4</td>\n",
       "      <td>151.5</td>\n",
       "      <td>41.3</td>\n",
       "      <td>58.5</td>\n",
       "      <td>18.5</td>\n",
       "    </tr>\n",
       "    <tr>\n",
       "      <th>4</th>\n",
       "      <td>5</td>\n",
       "      <td>180.8</td>\n",
       "      <td>10.8</td>\n",
       "      <td>58.4</td>\n",
       "      <td>12.9</td>\n",
       "    </tr>\n",
       "    <tr>\n",
       "      <th>...</th>\n",
       "      <td>...</td>\n",
       "      <td>...</td>\n",
       "      <td>...</td>\n",
       "      <td>...</td>\n",
       "      <td>...</td>\n",
       "    </tr>\n",
       "    <tr>\n",
       "      <th>195</th>\n",
       "      <td>196</td>\n",
       "      <td>38.2</td>\n",
       "      <td>3.7</td>\n",
       "      <td>13.8</td>\n",
       "      <td>7.6</td>\n",
       "    </tr>\n",
       "    <tr>\n",
       "      <th>196</th>\n",
       "      <td>197</td>\n",
       "      <td>94.2</td>\n",
       "      <td>4.9</td>\n",
       "      <td>8.1</td>\n",
       "      <td>9.7</td>\n",
       "    </tr>\n",
       "    <tr>\n",
       "      <th>197</th>\n",
       "      <td>198</td>\n",
       "      <td>177.0</td>\n",
       "      <td>9.3</td>\n",
       "      <td>6.4</td>\n",
       "      <td>12.8</td>\n",
       "    </tr>\n",
       "    <tr>\n",
       "      <th>198</th>\n",
       "      <td>199</td>\n",
       "      <td>283.6</td>\n",
       "      <td>42.0</td>\n",
       "      <td>66.2</td>\n",
       "      <td>25.5</td>\n",
       "    </tr>\n",
       "    <tr>\n",
       "      <th>199</th>\n",
       "      <td>200</td>\n",
       "      <td>232.1</td>\n",
       "      <td>8.6</td>\n",
       "      <td>8.7</td>\n",
       "      <td>13.4</td>\n",
       "    </tr>\n",
       "  </tbody>\n",
       "</table>\n",
       "<p>200 rows × 5 columns</p>\n",
       "</div>"
      ],
      "text/plain": [
       "     Unnamed: 0  TV Ad Budget ($)  Radio Ad Budget ($)  \\\n",
       "0             1             230.1                 37.8   \n",
       "1             2              44.5                 39.3   \n",
       "2             3              17.2                 45.9   \n",
       "3             4             151.5                 41.3   \n",
       "4             5             180.8                 10.8   \n",
       "..          ...               ...                  ...   \n",
       "195         196              38.2                  3.7   \n",
       "196         197              94.2                  4.9   \n",
       "197         198             177.0                  9.3   \n",
       "198         199             283.6                 42.0   \n",
       "199         200             232.1                  8.6   \n",
       "\n",
       "     Newspaper Ad Budget ($)  Sales ($)  \n",
       "0                       69.2       22.1  \n",
       "1                       45.1       10.4  \n",
       "2                       69.3        9.3  \n",
       "3                       58.5       18.5  \n",
       "4                       58.4       12.9  \n",
       "..                       ...        ...  \n",
       "195                     13.8        7.6  \n",
       "196                      8.1        9.7  \n",
       "197                      6.4       12.8  \n",
       "198                     66.2       25.5  \n",
       "199                      8.7       13.4  \n",
       "\n",
       "[200 rows x 5 columns]"
      ]
     },
     "execution_count": 3,
     "metadata": {},
     "output_type": "execute_result"
    }
   ],
   "source": [
    "df=pd.read_csv('/kaggle/input/advert-csv/Advertising Budget and Sales.csv')\n",
    "df"
   ]
  },
  {
   "cell_type": "code",
   "execution_count": 4,
   "id": "c2ab22a4",
   "metadata": {
    "execution": {
     "iopub.execute_input": "2024-07-02T13:24:07.169891Z",
     "iopub.status.busy": "2024-07-02T13:24:07.169130Z",
     "iopub.status.idle": "2024-07-02T13:24:07.184582Z",
     "shell.execute_reply": "2024-07-02T13:24:07.183580Z"
    },
    "papermill": {
     "duration": 0.033514,
     "end_time": "2024-07-02T13:24:07.187556",
     "exception": false,
     "start_time": "2024-07-02T13:24:07.154042",
     "status": "completed"
    },
    "tags": []
   },
   "outputs": [
    {
     "data": {
      "text/html": [
       "<div>\n",
       "<style scoped>\n",
       "    .dataframe tbody tr th:only-of-type {\n",
       "        vertical-align: middle;\n",
       "    }\n",
       "\n",
       "    .dataframe tbody tr th {\n",
       "        vertical-align: top;\n",
       "    }\n",
       "\n",
       "    .dataframe thead th {\n",
       "        text-align: right;\n",
       "    }\n",
       "</style>\n",
       "<table border=\"1\" class=\"dataframe\">\n",
       "  <thead>\n",
       "    <tr style=\"text-align: right;\">\n",
       "      <th></th>\n",
       "      <th>TV Ad Budget ($)</th>\n",
       "      <th>Radio Ad Budget ($)</th>\n",
       "      <th>Newspaper Ad Budget ($)</th>\n",
       "      <th>Sales ($)</th>\n",
       "    </tr>\n",
       "  </thead>\n",
       "  <tbody>\n",
       "    <tr>\n",
       "      <th>0</th>\n",
       "      <td>230.1</td>\n",
       "      <td>37.8</td>\n",
       "      <td>69.2</td>\n",
       "      <td>22.1</td>\n",
       "    </tr>\n",
       "    <tr>\n",
       "      <th>1</th>\n",
       "      <td>44.5</td>\n",
       "      <td>39.3</td>\n",
       "      <td>45.1</td>\n",
       "      <td>10.4</td>\n",
       "    </tr>\n",
       "    <tr>\n",
       "      <th>2</th>\n",
       "      <td>17.2</td>\n",
       "      <td>45.9</td>\n",
       "      <td>69.3</td>\n",
       "      <td>9.3</td>\n",
       "    </tr>\n",
       "    <tr>\n",
       "      <th>3</th>\n",
       "      <td>151.5</td>\n",
       "      <td>41.3</td>\n",
       "      <td>58.5</td>\n",
       "      <td>18.5</td>\n",
       "    </tr>\n",
       "    <tr>\n",
       "      <th>4</th>\n",
       "      <td>180.8</td>\n",
       "      <td>10.8</td>\n",
       "      <td>58.4</td>\n",
       "      <td>12.9</td>\n",
       "    </tr>\n",
       "    <tr>\n",
       "      <th>...</th>\n",
       "      <td>...</td>\n",
       "      <td>...</td>\n",
       "      <td>...</td>\n",
       "      <td>...</td>\n",
       "    </tr>\n",
       "    <tr>\n",
       "      <th>195</th>\n",
       "      <td>38.2</td>\n",
       "      <td>3.7</td>\n",
       "      <td>13.8</td>\n",
       "      <td>7.6</td>\n",
       "    </tr>\n",
       "    <tr>\n",
       "      <th>196</th>\n",
       "      <td>94.2</td>\n",
       "      <td>4.9</td>\n",
       "      <td>8.1</td>\n",
       "      <td>9.7</td>\n",
       "    </tr>\n",
       "    <tr>\n",
       "      <th>197</th>\n",
       "      <td>177.0</td>\n",
       "      <td>9.3</td>\n",
       "      <td>6.4</td>\n",
       "      <td>12.8</td>\n",
       "    </tr>\n",
       "    <tr>\n",
       "      <th>198</th>\n",
       "      <td>283.6</td>\n",
       "      <td>42.0</td>\n",
       "      <td>66.2</td>\n",
       "      <td>25.5</td>\n",
       "    </tr>\n",
       "    <tr>\n",
       "      <th>199</th>\n",
       "      <td>232.1</td>\n",
       "      <td>8.6</td>\n",
       "      <td>8.7</td>\n",
       "      <td>13.4</td>\n",
       "    </tr>\n",
       "  </tbody>\n",
       "</table>\n",
       "<p>200 rows × 4 columns</p>\n",
       "</div>"
      ],
      "text/plain": [
       "     TV Ad Budget ($)  Radio Ad Budget ($)  Newspaper Ad Budget ($)  Sales ($)\n",
       "0               230.1                 37.8                     69.2       22.1\n",
       "1                44.5                 39.3                     45.1       10.4\n",
       "2                17.2                 45.9                     69.3        9.3\n",
       "3               151.5                 41.3                     58.5       18.5\n",
       "4               180.8                 10.8                     58.4       12.9\n",
       "..                ...                  ...                      ...        ...\n",
       "195              38.2                  3.7                     13.8        7.6\n",
       "196              94.2                  4.9                      8.1        9.7\n",
       "197             177.0                  9.3                      6.4       12.8\n",
       "198             283.6                 42.0                     66.2       25.5\n",
       "199             232.1                  8.6                      8.7       13.4\n",
       "\n",
       "[200 rows x 4 columns]"
      ]
     },
     "execution_count": 4,
     "metadata": {},
     "output_type": "execute_result"
    }
   ],
   "source": [
    "df.drop('Unnamed: 0',axis=1,inplace=True)\n",
    "df"
   ]
  },
  {
   "cell_type": "code",
   "execution_count": 5,
   "id": "b2773362",
   "metadata": {
    "execution": {
     "iopub.execute_input": "2024-07-02T13:24:07.217763Z",
     "iopub.status.busy": "2024-07-02T13:24:07.217392Z",
     "iopub.status.idle": "2024-07-02T13:24:07.223087Z",
     "shell.execute_reply": "2024-07-02T13:24:07.222043Z"
    },
    "papermill": {
     "duration": 0.023147,
     "end_time": "2024-07-02T13:24:07.225185",
     "exception": false,
     "start_time": "2024-07-02T13:24:07.202038",
     "status": "completed"
    },
    "tags": []
   },
   "outputs": [],
   "source": [
    "x=np.array(df.iloc[:,0:3])\n",
    "y=df.iloc[:,3]"
   ]
  },
  {
   "cell_type": "code",
   "execution_count": 6,
   "id": "461bd35c",
   "metadata": {
    "execution": {
     "iopub.execute_input": "2024-07-02T13:24:07.255121Z",
     "iopub.status.busy": "2024-07-02T13:24:07.254223Z",
     "iopub.status.idle": "2024-07-02T13:24:07.260346Z",
     "shell.execute_reply": "2024-07-02T13:24:07.259421Z"
    },
    "papermill": {
     "duration": 0.023157,
     "end_time": "2024-07-02T13:24:07.262355",
     "exception": false,
     "start_time": "2024-07-02T13:24:07.239198",
     "status": "completed"
    },
    "tags": []
   },
   "outputs": [
    {
     "data": {
      "text/plain": [
       "numpy.ndarray"
      ]
     },
     "execution_count": 6,
     "metadata": {},
     "output_type": "execute_result"
    }
   ],
   "source": [
    "type(x)"
   ]
  },
  {
   "cell_type": "code",
   "execution_count": 7,
   "id": "c1c73fb7",
   "metadata": {
    "execution": {
     "iopub.execute_input": "2024-07-02T13:24:07.292588Z",
     "iopub.status.busy": "2024-07-02T13:24:07.291711Z",
     "iopub.status.idle": "2024-07-02T13:24:07.297762Z",
     "shell.execute_reply": "2024-07-02T13:24:07.296809Z"
    },
    "papermill": {
     "duration": 0.023743,
     "end_time": "2024-07-02T13:24:07.299976",
     "exception": false,
     "start_time": "2024-07-02T13:24:07.276233",
     "status": "completed"
    },
    "tags": []
   },
   "outputs": [
    {
     "data": {
      "text/plain": [
       "(200, 3)"
      ]
     },
     "execution_count": 7,
     "metadata": {},
     "output_type": "execute_result"
    }
   ],
   "source": [
    "x.shape"
   ]
  },
  {
   "cell_type": "code",
   "execution_count": null,
   "id": "108c797c",
   "metadata": {
    "execution": {
     "iopub.execute_input": "2024-06-29T06:20:37.319687Z",
     "iopub.status.busy": "2024-06-29T06:20:37.319256Z",
     "iopub.status.idle": "2024-06-29T06:20:37.325353Z",
     "shell.execute_reply": "2024-06-29T06:20:37.324036Z",
     "shell.execute_reply.started": "2024-06-29T06:20:37.319652Z"
    },
    "papermill": {
     "duration": 0.014299,
     "end_time": "2024-07-02T13:24:07.328671",
     "exception": false,
     "start_time": "2024-07-02T13:24:07.314372",
     "status": "completed"
    },
    "tags": []
   },
   "outputs": [],
   "source": []
  },
  {
   "cell_type": "markdown",
   "id": "6198cf63",
   "metadata": {
    "papermill": {
     "duration": 0.013984,
     "end_time": "2024-07-02T13:24:07.356649",
     "exception": false,
     "start_time": "2024-07-02T13:24:07.342665",
     "status": "completed"
    },
    "tags": []
   },
   "source": [
    "RESHAPE TO BE DONE ONLY IF THERE IS ONE FEATURE IN X"
   ]
  },
  {
   "cell_type": "code",
   "execution_count": null,
   "id": "1b07d368",
   "metadata": {
    "papermill": {
     "duration": 0.013907,
     "end_time": "2024-07-02T13:24:07.384685",
     "exception": false,
     "start_time": "2024-07-02T13:24:07.370778",
     "status": "completed"
    },
    "tags": []
   },
   "outputs": [],
   "source": []
  },
  {
   "cell_type": "markdown",
   "id": "eac37a87",
   "metadata": {
    "execution": {
     "iopub.execute_input": "2024-06-29T06:04:54.661078Z",
     "iopub.status.busy": "2024-06-29T06:04:54.659929Z",
     "iopub.status.idle": "2024-06-29T06:04:54.666792Z",
     "shell.execute_reply": "2024-06-29T06:04:54.665504Z",
     "shell.execute_reply.started": "2024-06-29T06:04:54.661033Z"
    },
    "papermill": {
     "duration": 0.01387,
     "end_time": "2024-07-02T13:24:07.412761",
     "exception": false,
     "start_time": "2024-07-02T13:24:07.398891",
     "status": "completed"
    },
    "tags": []
   },
   "source": [
    "from sklearn.model_selection import train_test_split"
   ]
  },
  {
   "cell_type": "code",
   "execution_count": 8,
   "id": "20ad8b98",
   "metadata": {
    "execution": {
     "iopub.execute_input": "2024-07-02T13:24:07.443064Z",
     "iopub.status.busy": "2024-07-02T13:24:07.442127Z",
     "iopub.status.idle": "2024-07-02T13:24:07.446642Z",
     "shell.execute_reply": "2024-07-02T13:24:07.445697Z"
    },
    "papermill": {
     "duration": 0.021908,
     "end_time": "2024-07-02T13:24:07.448772",
     "exception": false,
     "start_time": "2024-07-02T13:24:07.426864",
     "status": "completed"
    },
    "tags": []
   },
   "outputs": [],
   "source": [
    "from sklearn.model_selection import train_test_split"
   ]
  },
  {
   "cell_type": "code",
   "execution_count": 9,
   "id": "9682dd8a",
   "metadata": {
    "execution": {
     "iopub.execute_input": "2024-07-02T13:24:07.478800Z",
     "iopub.status.busy": "2024-07-02T13:24:07.478425Z",
     "iopub.status.idle": "2024-07-02T13:24:07.486028Z",
     "shell.execute_reply": "2024-07-02T13:24:07.485237Z"
    },
    "papermill": {
     "duration": 0.025188,
     "end_time": "2024-07-02T13:24:07.488106",
     "exception": false,
     "start_time": "2024-07-02T13:24:07.462918",
     "status": "completed"
    },
    "tags": []
   },
   "outputs": [],
   "source": [
    "x_train,x_test,y_train,y_test=train_test_split(x,y,test_size=0.2,random_state=40)"
   ]
  },
  {
   "cell_type": "code",
   "execution_count": 10,
   "id": "80d4cef9",
   "metadata": {
    "execution": {
     "iopub.execute_input": "2024-07-02T13:24:07.518426Z",
     "iopub.status.busy": "2024-07-02T13:24:07.518028Z",
     "iopub.status.idle": "2024-07-02T13:24:07.524386Z",
     "shell.execute_reply": "2024-07-02T13:24:07.523357Z"
    },
    "papermill": {
     "duration": 0.024162,
     "end_time": "2024-07-02T13:24:07.526514",
     "exception": false,
     "start_time": "2024-07-02T13:24:07.502352",
     "status": "completed"
    },
    "tags": []
   },
   "outputs": [
    {
     "data": {
      "text/plain": [
       "(160,)"
      ]
     },
     "execution_count": 10,
     "metadata": {},
     "output_type": "execute_result"
    }
   ],
   "source": [
    "y_train.shape"
   ]
  },
  {
   "cell_type": "code",
   "execution_count": 11,
   "id": "71c1a479",
   "metadata": {
    "execution": {
     "iopub.execute_input": "2024-07-02T13:24:07.557496Z",
     "iopub.status.busy": "2024-07-02T13:24:07.556615Z",
     "iopub.status.idle": "2024-07-02T13:24:07.561317Z",
     "shell.execute_reply": "2024-07-02T13:24:07.560327Z"
    },
    "papermill": {
     "duration": 0.022832,
     "end_time": "2024-07-02T13:24:07.563791",
     "exception": false,
     "start_time": "2024-07-02T13:24:07.540959",
     "status": "completed"
    },
    "tags": []
   },
   "outputs": [],
   "source": [
    "model=LinearRegression()"
   ]
  },
  {
   "cell_type": "code",
   "execution_count": 12,
   "id": "8da27fa1",
   "metadata": {
    "execution": {
     "iopub.execute_input": "2024-07-02T13:24:07.594831Z",
     "iopub.status.busy": "2024-07-02T13:24:07.593944Z",
     "iopub.status.idle": "2024-07-02T13:24:07.600050Z",
     "shell.execute_reply": "2024-07-02T13:24:07.599104Z"
    },
    "papermill": {
     "duration": 0.02389,
     "end_time": "2024-07-02T13:24:07.602127",
     "exception": false,
     "start_time": "2024-07-02T13:24:07.578237",
     "status": "completed"
    },
    "tags": []
   },
   "outputs": [
    {
     "data": {
      "text/plain": [
       "numpy.ndarray"
      ]
     },
     "execution_count": 12,
     "metadata": {},
     "output_type": "execute_result"
    }
   ],
   "source": [
    "type(x_train)"
   ]
  },
  {
   "cell_type": "code",
   "execution_count": 13,
   "id": "e208ff7c",
   "metadata": {
    "execution": {
     "iopub.execute_input": "2024-07-02T13:24:07.632876Z",
     "iopub.status.busy": "2024-07-02T13:24:07.632144Z",
     "iopub.status.idle": "2024-07-02T13:24:07.638438Z",
     "shell.execute_reply": "2024-07-02T13:24:07.637538Z"
    },
    "papermill": {
     "duration": 0.023943,
     "end_time": "2024-07-02T13:24:07.640529",
     "exception": false,
     "start_time": "2024-07-02T13:24:07.616586",
     "status": "completed"
    },
    "tags": []
   },
   "outputs": [
    {
     "data": {
      "text/plain": [
       "numpy.ndarray"
      ]
     },
     "execution_count": 13,
     "metadata": {},
     "output_type": "execute_result"
    }
   ],
   "source": [
    "type(x_train)\n"
   ]
  },
  {
   "cell_type": "code",
   "execution_count": 14,
   "id": "fbdd6e08",
   "metadata": {
    "execution": {
     "iopub.execute_input": "2024-07-02T13:24:07.671470Z",
     "iopub.status.busy": "2024-07-02T13:24:07.670587Z",
     "iopub.status.idle": "2024-07-02T13:24:07.696193Z",
     "shell.execute_reply": "2024-07-02T13:24:07.695216Z"
    },
    "papermill": {
     "duration": 0.04352,
     "end_time": "2024-07-02T13:24:07.698389",
     "exception": false,
     "start_time": "2024-07-02T13:24:07.654869",
     "status": "completed"
    },
    "tags": []
   },
   "outputs": [
    {
     "data": {
      "text/html": [
       "<style>#sk-container-id-1 {color: black;background-color: white;}#sk-container-id-1 pre{padding: 0;}#sk-container-id-1 div.sk-toggleable {background-color: white;}#sk-container-id-1 label.sk-toggleable__label {cursor: pointer;display: block;width: 100%;margin-bottom: 0;padding: 0.3em;box-sizing: border-box;text-align: center;}#sk-container-id-1 label.sk-toggleable__label-arrow:before {content: \"▸\";float: left;margin-right: 0.25em;color: #696969;}#sk-container-id-1 label.sk-toggleable__label-arrow:hover:before {color: black;}#sk-container-id-1 div.sk-estimator:hover label.sk-toggleable__label-arrow:before {color: black;}#sk-container-id-1 div.sk-toggleable__content {max-height: 0;max-width: 0;overflow: hidden;text-align: left;background-color: #f0f8ff;}#sk-container-id-1 div.sk-toggleable__content pre {margin: 0.2em;color: black;border-radius: 0.25em;background-color: #f0f8ff;}#sk-container-id-1 input.sk-toggleable__control:checked~div.sk-toggleable__content {max-height: 200px;max-width: 100%;overflow: auto;}#sk-container-id-1 input.sk-toggleable__control:checked~label.sk-toggleable__label-arrow:before {content: \"▾\";}#sk-container-id-1 div.sk-estimator input.sk-toggleable__control:checked~label.sk-toggleable__label {background-color: #d4ebff;}#sk-container-id-1 div.sk-label input.sk-toggleable__control:checked~label.sk-toggleable__label {background-color: #d4ebff;}#sk-container-id-1 input.sk-hidden--visually {border: 0;clip: rect(1px 1px 1px 1px);clip: rect(1px, 1px, 1px, 1px);height: 1px;margin: -1px;overflow: hidden;padding: 0;position: absolute;width: 1px;}#sk-container-id-1 div.sk-estimator {font-family: monospace;background-color: #f0f8ff;border: 1px dotted black;border-radius: 0.25em;box-sizing: border-box;margin-bottom: 0.5em;}#sk-container-id-1 div.sk-estimator:hover {background-color: #d4ebff;}#sk-container-id-1 div.sk-parallel-item::after {content: \"\";width: 100%;border-bottom: 1px solid gray;flex-grow: 1;}#sk-container-id-1 div.sk-label:hover label.sk-toggleable__label {background-color: #d4ebff;}#sk-container-id-1 div.sk-serial::before {content: \"\";position: absolute;border-left: 1px solid gray;box-sizing: border-box;top: 0;bottom: 0;left: 50%;z-index: 0;}#sk-container-id-1 div.sk-serial {display: flex;flex-direction: column;align-items: center;background-color: white;padding-right: 0.2em;padding-left: 0.2em;position: relative;}#sk-container-id-1 div.sk-item {position: relative;z-index: 1;}#sk-container-id-1 div.sk-parallel {display: flex;align-items: stretch;justify-content: center;background-color: white;position: relative;}#sk-container-id-1 div.sk-item::before, #sk-container-id-1 div.sk-parallel-item::before {content: \"\";position: absolute;border-left: 1px solid gray;box-sizing: border-box;top: 0;bottom: 0;left: 50%;z-index: -1;}#sk-container-id-1 div.sk-parallel-item {display: flex;flex-direction: column;z-index: 1;position: relative;background-color: white;}#sk-container-id-1 div.sk-parallel-item:first-child::after {align-self: flex-end;width: 50%;}#sk-container-id-1 div.sk-parallel-item:last-child::after {align-self: flex-start;width: 50%;}#sk-container-id-1 div.sk-parallel-item:only-child::after {width: 0;}#sk-container-id-1 div.sk-dashed-wrapped {border: 1px dashed gray;margin: 0 0.4em 0.5em 0.4em;box-sizing: border-box;padding-bottom: 0.4em;background-color: white;}#sk-container-id-1 div.sk-label label {font-family: monospace;font-weight: bold;display: inline-block;line-height: 1.2em;}#sk-container-id-1 div.sk-label-container {text-align: center;}#sk-container-id-1 div.sk-container {/* jupyter's `normalize.less` sets `[hidden] { display: none; }` but bootstrap.min.css set `[hidden] { display: none !important; }` so we also need the `!important` here to be able to override the default hidden behavior on the sphinx rendered scikit-learn.org. See: https://github.com/scikit-learn/scikit-learn/issues/21755 */display: inline-block !important;position: relative;}#sk-container-id-1 div.sk-text-repr-fallback {display: none;}</style><div id=\"sk-container-id-1\" class=\"sk-top-container\"><div class=\"sk-text-repr-fallback\"><pre>LinearRegression()</pre><b>In a Jupyter environment, please rerun this cell to show the HTML representation or trust the notebook. <br />On GitHub, the HTML representation is unable to render, please try loading this page with nbviewer.org.</b></div><div class=\"sk-container\" hidden><div class=\"sk-item\"><div class=\"sk-estimator sk-toggleable\"><input class=\"sk-toggleable__control sk-hidden--visually\" id=\"sk-estimator-id-1\" type=\"checkbox\" checked><label for=\"sk-estimator-id-1\" class=\"sk-toggleable__label sk-toggleable__label-arrow\">LinearRegression</label><div class=\"sk-toggleable__content\"><pre>LinearRegression()</pre></div></div></div></div></div>"
      ],
      "text/plain": [
       "LinearRegression()"
      ]
     },
     "execution_count": 14,
     "metadata": {},
     "output_type": "execute_result"
    }
   ],
   "source": [
    "model.fit(x_train,y_train)"
   ]
  },
  {
   "cell_type": "code",
   "execution_count": 15,
   "id": "eff10acb",
   "metadata": {
    "execution": {
     "iopub.execute_input": "2024-07-02T13:24:07.729760Z",
     "iopub.status.busy": "2024-07-02T13:24:07.728912Z",
     "iopub.status.idle": "2024-07-02T13:24:07.735924Z",
     "shell.execute_reply": "2024-07-02T13:24:07.735019Z"
    },
    "papermill": {
     "duration": 0.024847,
     "end_time": "2024-07-02T13:24:07.737929",
     "exception": false,
     "start_time": "2024-07-02T13:24:07.713082",
     "status": "completed"
    },
    "tags": []
   },
   "outputs": [
    {
     "data": {
      "text/plain": [
       "array([12.61642732, 12.92004597, 12.08471384, 16.82199977, 24.05507461,\n",
       "       14.27401262, 20.38340381, 12.18421129, 10.09174637,  8.66655408,\n",
       "       19.95514125, 19.30787454, 12.14730531, 15.21977508, 17.23740592,\n",
       "        9.7598278 , 14.41000251, 16.51146169,  8.92695588, 16.02464885,\n",
       "       10.05186805, 19.4154987 , 15.12151244, 21.16976203, 13.66330888,\n",
       "       12.21606824, 10.2390723 , 18.17447189,  8.14300866, 10.98457653,\n",
       "       18.84836683,  9.0123122 , 17.14149406, 17.81595324, 17.37571806,\n",
       "       11.30634219, 14.48268811, 21.22881792, 12.1818627 , 23.36759687])"
      ]
     },
     "execution_count": 15,
     "metadata": {},
     "output_type": "execute_result"
    }
   ],
   "source": [
    "y_pred=model.predict(x_test)\n",
    "y_pred"
   ]
  },
  {
   "cell_type": "code",
   "execution_count": 16,
   "id": "90f7ad26",
   "metadata": {
    "execution": {
     "iopub.execute_input": "2024-07-02T13:24:07.769182Z",
     "iopub.status.busy": "2024-07-02T13:24:07.768567Z",
     "iopub.status.idle": "2024-07-02T13:24:07.783004Z",
     "shell.execute_reply": "2024-07-02T13:24:07.782035Z"
    },
    "papermill": {
     "duration": 0.032344,
     "end_time": "2024-07-02T13:24:07.785104",
     "exception": false,
     "start_time": "2024-07-02T13:24:07.752760",
     "status": "completed"
    },
    "tags": []
   },
   "outputs": [
    {
     "data": {
      "text/html": [
       "<div>\n",
       "<style scoped>\n",
       "    .dataframe tbody tr th:only-of-type {\n",
       "        vertical-align: middle;\n",
       "    }\n",
       "\n",
       "    .dataframe tbody tr th {\n",
       "        vertical-align: top;\n",
       "    }\n",
       "\n",
       "    .dataframe thead th {\n",
       "        text-align: right;\n",
       "    }\n",
       "</style>\n",
       "<table border=\"1\" class=\"dataframe\">\n",
       "  <thead>\n",
       "    <tr style=\"text-align: right;\">\n",
       "      <th></th>\n",
       "      <th>actual</th>\n",
       "      <th>predicted</th>\n",
       "    </tr>\n",
       "  </thead>\n",
       "  <tbody>\n",
       "    <tr>\n",
       "      <th>96</th>\n",
       "      <td>11.7</td>\n",
       "      <td>12.616427</td>\n",
       "    </tr>\n",
       "    <tr>\n",
       "      <th>5</th>\n",
       "      <td>7.2</td>\n",
       "      <td>12.920046</td>\n",
       "    </tr>\n",
       "    <tr>\n",
       "      <th>116</th>\n",
       "      <td>12.2</td>\n",
       "      <td>12.084714</td>\n",
       "    </tr>\n",
       "    <tr>\n",
       "      <th>35</th>\n",
       "      <td>12.8</td>\n",
       "      <td>16.822000</td>\n",
       "    </tr>\n",
       "    <tr>\n",
       "      <th>183</th>\n",
       "      <td>26.2</td>\n",
       "      <td>24.055075</td>\n",
       "    </tr>\n",
       "    <tr>\n",
       "      <th>160</th>\n",
       "      <td>14.4</td>\n",
       "      <td>14.274013</td>\n",
       "    </tr>\n",
       "    <tr>\n",
       "      <th>54</th>\n",
       "      <td>20.2</td>\n",
       "      <td>20.383404</td>\n",
       "    </tr>\n",
       "    <tr>\n",
       "      <th>134</th>\n",
       "      <td>10.8</td>\n",
       "      <td>12.184211</td>\n",
       "    </tr>\n",
       "    <tr>\n",
       "      <th>90</th>\n",
       "      <td>11.2</td>\n",
       "      <td>10.091746</td>\n",
       "    </tr>\n",
       "    <tr>\n",
       "      <th>191</th>\n",
       "      <td>9.9</td>\n",
       "      <td>8.666554</td>\n",
       "    </tr>\n",
       "    <tr>\n",
       "      <th>139</th>\n",
       "      <td>20.7</td>\n",
       "      <td>19.955141</td>\n",
       "    </tr>\n",
       "    <tr>\n",
       "      <th>142</th>\n",
       "      <td>20.1</td>\n",
       "      <td>19.307875</td>\n",
       "    </tr>\n",
       "    <tr>\n",
       "      <th>177</th>\n",
       "      <td>11.7</td>\n",
       "      <td>12.147305</td>\n",
       "    </tr>\n",
       "    <tr>\n",
       "      <th>26</th>\n",
       "      <td>15.0</td>\n",
       "      <td>15.219775</td>\n",
       "    </tr>\n",
       "    <tr>\n",
       "      <th>89</th>\n",
       "      <td>16.7</td>\n",
       "      <td>17.237406</td>\n",
       "    </tr>\n",
       "    <tr>\n",
       "      <th>140</th>\n",
       "      <td>10.9</td>\n",
       "      <td>9.759828</td>\n",
       "    </tr>\n",
       "    <tr>\n",
       "      <th>171</th>\n",
       "      <td>14.5</td>\n",
       "      <td>14.410003</td>\n",
       "    </tr>\n",
       "    <tr>\n",
       "      <th>23</th>\n",
       "      <td>15.5</td>\n",
       "      <td>16.511462</td>\n",
       "    </tr>\n",
       "    <tr>\n",
       "      <th>132</th>\n",
       "      <td>5.7</td>\n",
       "      <td>8.926956</td>\n",
       "    </tr>\n",
       "    <tr>\n",
       "      <th>37</th>\n",
       "      <td>14.7</td>\n",
       "      <td>16.024649</td>\n",
       "    </tr>\n",
       "    <tr>\n",
       "      <th>151</th>\n",
       "      <td>11.6</td>\n",
       "      <td>10.051868</td>\n",
       "    </tr>\n",
       "    <tr>\n",
       "      <th>28</th>\n",
       "      <td>18.9</td>\n",
       "      <td>19.415499</td>\n",
       "    </tr>\n",
       "    <tr>\n",
       "      <th>85</th>\n",
       "      <td>15.2</td>\n",
       "      <td>15.121512</td>\n",
       "    </tr>\n",
       "    <tr>\n",
       "      <th>93</th>\n",
       "      <td>22.2</td>\n",
       "      <td>21.169762</td>\n",
       "    </tr>\n",
       "    <tr>\n",
       "      <th>174</th>\n",
       "      <td>11.5</td>\n",
       "      <td>13.663309</td>\n",
       "    </tr>\n",
       "    <tr>\n",
       "      <th>75</th>\n",
       "      <td>8.7</td>\n",
       "      <td>12.216068</td>\n",
       "    </tr>\n",
       "    <tr>\n",
       "      <th>18</th>\n",
       "      <td>11.3</td>\n",
       "      <td>10.239072</td>\n",
       "    </tr>\n",
       "    <tr>\n",
       "      <th>105</th>\n",
       "      <td>19.2</td>\n",
       "      <td>18.174472</td>\n",
       "    </tr>\n",
       "    <tr>\n",
       "      <th>121</th>\n",
       "      <td>7.0</td>\n",
       "      <td>8.143009</td>\n",
       "    </tr>\n",
       "    <tr>\n",
       "      <th>130</th>\n",
       "      <td>1.6</td>\n",
       "      <td>10.984577</td>\n",
       "    </tr>\n",
       "    <tr>\n",
       "      <th>33</th>\n",
       "      <td>17.4</td>\n",
       "      <td>18.848367</td>\n",
       "    </tr>\n",
       "    <tr>\n",
       "      <th>46</th>\n",
       "      <td>10.6</td>\n",
       "      <td>9.012312</td>\n",
       "    </tr>\n",
       "    <tr>\n",
       "      <th>168</th>\n",
       "      <td>17.1</td>\n",
       "      <td>17.141494</td>\n",
       "    </tr>\n",
       "    <tr>\n",
       "      <th>169</th>\n",
       "      <td>15.0</td>\n",
       "      <td>17.815953</td>\n",
       "    </tr>\n",
       "    <tr>\n",
       "      <th>11</th>\n",
       "      <td>17.4</td>\n",
       "      <td>17.375718</td>\n",
       "    </tr>\n",
       "    <tr>\n",
       "      <th>166</th>\n",
       "      <td>8.0</td>\n",
       "      <td>11.306342</td>\n",
       "    </tr>\n",
       "    <tr>\n",
       "      <th>81</th>\n",
       "      <td>12.3</td>\n",
       "      <td>14.482688</td>\n",
       "    </tr>\n",
       "    <tr>\n",
       "      <th>111</th>\n",
       "      <td>21.8</td>\n",
       "      <td>21.228818</td>\n",
       "    </tr>\n",
       "    <tr>\n",
       "      <th>67</th>\n",
       "      <td>13.4</td>\n",
       "      <td>12.181863</td>\n",
       "    </tr>\n",
       "    <tr>\n",
       "      <th>147</th>\n",
       "      <td>25.4</td>\n",
       "      <td>23.367597</td>\n",
       "    </tr>\n",
       "  </tbody>\n",
       "</table>\n",
       "</div>"
      ],
      "text/plain": [
       "     actual  predicted\n",
       "96     11.7  12.616427\n",
       "5       7.2  12.920046\n",
       "116    12.2  12.084714\n",
       "35     12.8  16.822000\n",
       "183    26.2  24.055075\n",
       "160    14.4  14.274013\n",
       "54     20.2  20.383404\n",
       "134    10.8  12.184211\n",
       "90     11.2  10.091746\n",
       "191     9.9   8.666554\n",
       "139    20.7  19.955141\n",
       "142    20.1  19.307875\n",
       "177    11.7  12.147305\n",
       "26     15.0  15.219775\n",
       "89     16.7  17.237406\n",
       "140    10.9   9.759828\n",
       "171    14.5  14.410003\n",
       "23     15.5  16.511462\n",
       "132     5.7   8.926956\n",
       "37     14.7  16.024649\n",
       "151    11.6  10.051868\n",
       "28     18.9  19.415499\n",
       "85     15.2  15.121512\n",
       "93     22.2  21.169762\n",
       "174    11.5  13.663309\n",
       "75      8.7  12.216068\n",
       "18     11.3  10.239072\n",
       "105    19.2  18.174472\n",
       "121     7.0   8.143009\n",
       "130     1.6  10.984577\n",
       "33     17.4  18.848367\n",
       "46     10.6   9.012312\n",
       "168    17.1  17.141494\n",
       "169    15.0  17.815953\n",
       "11     17.4  17.375718\n",
       "166     8.0  11.306342\n",
       "81     12.3  14.482688\n",
       "111    21.8  21.228818\n",
       "67     13.4  12.181863\n",
       "147    25.4  23.367597"
      ]
     },
     "execution_count": 16,
     "metadata": {},
     "output_type": "execute_result"
    }
   ],
   "source": [
    "data=pd.DataFrame({'actual':y_test,'predicted':y_pred})\n",
    "data"
   ]
  },
  {
   "cell_type": "code",
   "execution_count": 17,
   "id": "c64e36b6",
   "metadata": {
    "execution": {
     "iopub.execute_input": "2024-07-02T13:24:07.817097Z",
     "iopub.status.busy": "2024-07-02T13:24:07.816740Z",
     "iopub.status.idle": "2024-07-02T13:24:07.824998Z",
     "shell.execute_reply": "2024-07-02T13:24:07.824016Z"
    },
    "papermill": {
     "duration": 0.02663,
     "end_time": "2024-07-02T13:24:07.827079",
     "exception": false,
     "start_time": "2024-07-02T13:24:07.800449",
     "status": "completed"
    },
    "tags": []
   },
   "outputs": [
    {
     "data": {
      "text/plain": [
       "0.7982652261831081"
      ]
     },
     "execution_count": 17,
     "metadata": {},
     "output_type": "execute_result"
    }
   ],
   "source": [
    "r2_score(y_test,y_pred)"
   ]
  },
  {
   "cell_type": "code",
   "execution_count": 18,
   "id": "4a3ec089",
   "metadata": {
    "execution": {
     "iopub.execute_input": "2024-07-02T13:24:07.917491Z",
     "iopub.status.busy": "2024-07-02T13:24:07.917085Z",
     "iopub.status.idle": "2024-07-02T13:24:07.923896Z",
     "shell.execute_reply": "2024-07-02T13:24:07.922656Z"
    },
    "papermill": {
     "duration": 0.083434,
     "end_time": "2024-07-02T13:24:07.925902",
     "exception": false,
     "start_time": "2024-07-02T13:24:07.842468",
     "status": "completed"
    },
    "tags": []
   },
   "outputs": [
    {
     "data": {
      "text/plain": [
       "Index(['TV Ad Budget ($)', 'Radio Ad Budget ($)', 'Newspaper Ad Budget ($)',\n",
       "       'Sales ($)'],\n",
       "      dtype='object')"
      ]
     },
     "execution_count": 18,
     "metadata": {},
     "output_type": "execute_result"
    }
   ],
   "source": [
    "df.columns"
   ]
  },
  {
   "cell_type": "code",
   "execution_count": null,
   "id": "0d4aa4ca",
   "metadata": {
    "papermill": {
     "duration": 0.015179,
     "end_time": "2024-07-02T13:24:07.956423",
     "exception": false,
     "start_time": "2024-07-02T13:24:07.941244",
     "status": "completed"
    },
    "tags": []
   },
   "outputs": [],
   "source": []
  },
  {
   "cell_type": "code",
   "execution_count": 19,
   "id": "b7b1458e",
   "metadata": {
    "execution": {
     "iopub.execute_input": "2024-07-02T13:24:07.989048Z",
     "iopub.status.busy": "2024-07-02T13:24:07.988679Z",
     "iopub.status.idle": "2024-07-02T13:24:08.337919Z",
     "shell.execute_reply": "2024-07-02T13:24:08.336449Z"
    },
    "papermill": {
     "duration": 0.368283,
     "end_time": "2024-07-02T13:24:08.340111",
     "exception": false,
     "start_time": "2024-07-02T13:24:07.971828",
     "status": "completed"
    },
    "tags": []
   },
   "outputs": [
    {
     "data": {
      "text/plain": [
       "<matplotlib.collections.PathCollection at 0x7a59c17a5960>"
      ]
     },
     "execution_count": 19,
     "metadata": {},
     "output_type": "execute_result"
    },
    {
     "data": {
      "image/png": "[encoded data removed]",
      "text/plain": [
       "<Figure size 640x480 with 1 Axes>"
      ]
     },
     "metadata": {},
     "output_type": "display_data"
    }
   ],
   "source": [
    "plt.scatter(df.iloc[:,0],df.iloc[:,3])"
   ]
  },
  {
   "cell_type": "code",
   "execution_count": 20,
   "id": "1335f913",
   "metadata": {
    "execution": {
     "iopub.execute_input": "2024-07-02T13:24:08.374789Z",
     "iopub.status.busy": "2024-07-02T13:24:08.373747Z",
     "iopub.status.idle": "2024-07-02T13:24:08.380535Z",
     "shell.execute_reply": "2024-07-02T13:24:08.379525Z"
    },
    "papermill": {
     "duration": 0.026212,
     "end_time": "2024-07-02T13:24:08.382666",
     "exception": false,
     "start_time": "2024-07-02T13:24:08.356454",
     "status": "completed"
    },
    "tags": []
   },
   "outputs": [
    {
     "data": {
      "text/plain": [
       "(40,)"
      ]
     },
     "execution_count": 20,
     "metadata": {},
     "output_type": "execute_result"
    }
   ],
   "source": [
    "y_pred.shape"
   ]
  },
  {
   "cell_type": "code",
   "execution_count": 21,
   "id": "994e1a75",
   "metadata": {
    "execution": {
     "iopub.execute_input": "2024-07-02T13:24:08.417027Z",
     "iopub.status.busy": "2024-07-02T13:24:08.416243Z",
     "iopub.status.idle": "2024-07-02T13:24:08.422389Z",
     "shell.execute_reply": "2024-07-02T13:24:08.421409Z"
    },
    "papermill": {
     "duration": 0.025539,
     "end_time": "2024-07-02T13:24:08.424731",
     "exception": false,
     "start_time": "2024-07-02T13:24:08.399192",
     "status": "completed"
    },
    "tags": []
   },
   "outputs": [
    {
     "data": {
      "text/plain": [
       "(40,)"
      ]
     },
     "execution_count": 21,
     "metadata": {},
     "output_type": "execute_result"
    }
   ],
   "source": [
    "y_test.shape"
   ]
  },
  {
   "cell_type": "code",
   "execution_count": 22,
   "id": "a4249a88",
   "metadata": {
    "execution": {
     "iopub.execute_input": "2024-07-02T13:24:08.459932Z",
     "iopub.status.busy": "2024-07-02T13:24:08.459171Z",
     "iopub.status.idle": "2024-07-02T13:24:08.540562Z",
     "shell.execute_reply": "2024-07-02T13:24:08.539717Z"
    },
    "papermill": {
     "duration": 0.101517,
     "end_time": "2024-07-02T13:24:08.543001",
     "exception": false,
     "start_time": "2024-07-02T13:24:08.441484",
     "status": "completed"
    },
    "tags": []
   },
   "outputs": [],
   "source": [
    "from sklearn.tree import DecisionTreeRegressor"
   ]
  },
  {
   "cell_type": "code",
   "execution_count": 23,
   "id": "4ebde8e4",
   "metadata": {
    "execution": {
     "iopub.execute_input": "2024-07-02T13:24:08.577417Z",
     "iopub.status.busy": "2024-07-02T13:24:08.577007Z",
     "iopub.status.idle": "2024-07-02T13:24:08.581795Z",
     "shell.execute_reply": "2024-07-02T13:24:08.580818Z"
    },
    "papermill": {
     "duration": 0.024677,
     "end_time": "2024-07-02T13:24:08.584185",
     "exception": false,
     "start_time": "2024-07-02T13:24:08.559508",
     "status": "completed"
    },
    "tags": []
   },
   "outputs": [],
   "source": [
    "model1=DecisionTreeRegressor()"
   ]
  },
  {
   "cell_type": "code",
   "execution_count": 24,
   "id": "b64fc4f4",
   "metadata": {
    "execution": {
     "iopub.execute_input": "2024-07-02T13:24:08.620726Z",
     "iopub.status.busy": "2024-07-02T13:24:08.619877Z",
     "iopub.status.idle": "2024-07-02T13:24:08.629702Z",
     "shell.execute_reply": "2024-07-02T13:24:08.628461Z"
    },
    "papermill": {
     "duration": 0.030489,
     "end_time": "2024-07-02T13:24:08.631949",
     "exception": false,
     "start_time": "2024-07-02T13:24:08.601460",
     "status": "completed"
    },
    "tags": []
   },
   "outputs": [
    {
     "data": {
      "text/html": [
       "<style>#sk-container-id-2 {color: black;background-color: white;}#sk-container-id-2 pre{padding: 0;}#sk-container-id-2 div.sk-toggleable {background-color: white;}#sk-container-id-2 label.sk-toggleable__label {cursor: pointer;display: block;width: 100%;margin-bottom: 0;padding: 0.3em;box-sizing: border-box;text-align: center;}#sk-container-id-2 label.sk-toggleable__label-arrow:before {content: \"▸\";float: left;margin-right: 0.25em;color: #696969;}#sk-container-id-2 label.sk-toggleable__label-arrow:hover:before {color: black;}#sk-container-id-2 div.sk-estimator:hover label.sk-toggleable__label-arrow:before {color: black;}#sk-container-id-2 div.sk-toggleable__content {max-height: 0;max-width: 0;overflow: hidden;text-align: left;background-color: #f0f8ff;}#sk-container-id-2 div.sk-toggleable__content pre {margin: 0.2em;color: black;border-radius: 0.25em;background-color: #f0f8ff;}#sk-container-id-2 input.sk-toggleable__control:checked~div.sk-toggleable__content {max-height: 200px;max-width: 100%;overflow: auto;}#sk-container-id-2 input.sk-toggleable__control:checked~label.sk-toggleable__label-arrow:before {content: \"▾\";}#sk-container-id-2 div.sk-estimator input.sk-toggleable__control:checked~label.sk-toggleable__label {background-color: #d4ebff;}#sk-container-id-2 div.sk-label input.sk-toggleable__control:checked~label.sk-toggleable__label {background-color: #d4ebff;}#sk-container-id-2 input.sk-hidden--visually {border: 0;clip: rect(1px 1px 1px 1px);clip: rect(1px, 1px, 1px, 1px);height: 1px;margin: -1px;overflow: hidden;padding: 0;position: absolute;width: 1px;}#sk-container-id-2 div.sk-estimator {font-family: monospace;background-color: #f0f8ff;border: 1px dotted black;border-radius: 0.25em;box-sizing: border-box;margin-bottom: 0.5em;}#sk-container-id-2 div.sk-estimator:hover {background-color: #d4ebff;}#sk-container-id-2 div.sk-parallel-item::after {content: \"\";width: 100%;border-bottom: 1px solid gray;flex-grow: 1;}#sk-container-id-2 div.sk-label:hover label.sk-toggleable__label {background-color: #d4ebff;}#sk-container-id-2 div.sk-serial::before {content: \"\";position: absolute;border-left: 1px solid gray;box-sizing: border-box;top: 0;bottom: 0;left: 50%;z-index: 0;}#sk-container-id-2 div.sk-serial {display: flex;flex-direction: column;align-items: center;background-color: white;padding-right: 0.2em;padding-left: 0.2em;position: relative;}#sk-container-id-2 div.sk-item {position: relative;z-index: 1;}#sk-container-id-2 div.sk-parallel {display: flex;align-items: stretch;justify-content: center;background-color: white;position: relative;}#sk-container-id-2 div.sk-item::before, #sk-container-id-2 div.sk-parallel-item::before {content: \"\";position: absolute;border-left: 1px solid gray;box-sizing: border-box;top: 0;bottom: 0;left: 50%;z-index: -1;}#sk-container-id-2 div.sk-parallel-item {display: flex;flex-direction: column;z-index: 1;position: relative;background-color: white;}#sk-container-id-2 div.sk-parallel-item:first-child::after {align-self: flex-end;width: 50%;}#sk-container-id-2 div.sk-parallel-item:last-child::after {align-self: flex-start;width: 50%;}#sk-container-id-2 div.sk-parallel-item:only-child::after {width: 0;}#sk-container-id-2 div.sk-dashed-wrapped {border: 1px dashed gray;margin: 0 0.4em 0.5em 0.4em;box-sizing: border-box;padding-bottom: 0.4em;background-color: white;}#sk-container-id-2 div.sk-label label {font-family: monospace;font-weight: bold;display: inline-block;line-height: 1.2em;}#sk-container-id-2 div.sk-label-container {text-align: center;}#sk-container-id-2 div.sk-container {/* jupyter's `normalize.less` sets `[hidden] { display: none; }` but bootstrap.min.css set `[hidden] { display: none !important; }` so we also need the `!important` here to be able to override the default hidden behavior on the sphinx rendered scikit-learn.org. See: https://github.com/scikit-learn/scikit-learn/issues/21755 */display: inline-block !important;position: relative;}#sk-container-id-2 div.sk-text-repr-fallback {display: none;}</style><div id=\"sk-container-id-2\" class=\"sk-top-container\"><div class=\"sk-text-repr-fallback\"><pre>DecisionTreeRegressor()</pre><b>In a Jupyter environment, please rerun this cell to show the HTML representation or trust the notebook. <br />On GitHub, the HTML representation is unable to render, please try loading this page with nbviewer.org.</b></div><div class=\"sk-container\" hidden><div class=\"sk-item\"><div class=\"sk-estimator sk-toggleable\"><input class=\"sk-toggleable__control sk-hidden--visually\" id=\"sk-estimator-id-2\" type=\"checkbox\" checked><label for=\"sk-estimator-id-2\" class=\"sk-toggleable__label sk-toggleable__label-arrow\">DecisionTreeRegressor</label><div class=\"sk-toggleable__content\"><pre>DecisionTreeRegressor()</pre></div></div></div></div></div>"
      ],
      "text/plain": [
       "DecisionTreeRegressor()"
      ]
     },
     "execution_count": 24,
     "metadata": {},
     "output_type": "execute_result"
    }
   ],
   "source": [
    "model1.fit(x_train,y_train)"
   ]
  },
  {
   "cell_type": "code",
   "execution_count": 25,
   "id": "6189ac30",
   "metadata": {
    "execution": {
     "iopub.execute_input": "2024-07-02T13:24:08.666389Z",
     "iopub.status.busy": "2024-07-02T13:24:08.665968Z",
     "iopub.status.idle": "2024-07-02T13:24:08.673165Z",
     "shell.execute_reply": "2024-07-02T13:24:08.672189Z"
    },
    "papermill": {
     "duration": 0.026915,
     "end_time": "2024-07-02T13:24:08.675346",
     "exception": false,
     "start_time": "2024-07-02T13:24:08.648431",
     "status": "completed"
    },
    "tags": []
   },
   "outputs": [
    {
     "data": {
      "text/plain": [
       "array([11.4,  6.6, 12.9, 12.7, 25.5, 12.9, 19.8, 10.4, 10.5,  9.7, 19.6,\n",
       "       19.6, 12.6, 17.3, 14.6, 11.5, 14.9, 14.7,  4.8, 14.6, 11. , 20.2,\n",
       "       14.9, 24.4, 12.5,  9.3, 11.3, 21.2,  6.6,  6.6, 15.9,  8.6, 17. ,\n",
       "       15.9, 17. ,  9.5, 12.5, 23.2, 12.9, 24.7])"
      ]
     },
     "execution_count": 25,
     "metadata": {},
     "output_type": "execute_result"
    }
   ],
   "source": [
    "pred=model1.predict(x_test)\n",
    "pred"
   ]
  },
  {
   "cell_type": "code",
   "execution_count": 26,
   "id": "a86892b1",
   "metadata": {
    "execution": {
     "iopub.execute_input": "2024-07-02T13:24:08.709916Z",
     "iopub.status.busy": "2024-07-02T13:24:08.709556Z",
     "iopub.status.idle": "2024-07-02T13:24:08.716679Z",
     "shell.execute_reply": "2024-07-02T13:24:08.715725Z"
    },
    "papermill": {
     "duration": 0.026954,
     "end_time": "2024-07-02T13:24:08.718767",
     "exception": false,
     "start_time": "2024-07-02T13:24:08.691813",
     "status": "completed"
    },
    "tags": []
   },
   "outputs": [
    {
     "data": {
      "text/plain": [
       "0.9379597620714581"
      ]
     },
     "execution_count": 26,
     "metadata": {},
     "output_type": "execute_result"
    }
   ],
   "source": [
    "r2_score(y_test,pred)"
   ]
  },
  {
   "cell_type": "markdown",
   "id": "15d83f7c",
   "metadata": {
    "execution": {
     "iopub.execute_input": "2024-07-01T10:37:17.273549Z",
     "iopub.status.busy": "2024-07-01T10:37:17.273176Z",
     "iopub.status.idle": "2024-07-01T10:37:17.286188Z",
     "shell.execute_reply": "2024-07-01T10:37:17.285114Z",
     "shell.execute_reply.started": "2024-07-01T10:37:17.273519Z"
    },
    "papermill": {
     "duration": 0.016307,
     "end_time": "2024-07-02T13:24:08.751661",
     "exception": false,
     "start_time": "2024-07-02T13:24:08.735354",
     "status": "completed"
    },
    "tags": []
   },
   "source": [
    "df1=pd.DataFrame({'actual':y_test,'predicted':pred})\n",
    "df1.head(10)"
   ]
  },
  {
   "cell_type": "markdown",
   "id": "1e02c96a",
   "metadata": {
    "papermill": {
     "duration": 0.016184,
     "end_time": "2024-07-02T13:24:08.784327",
     "exception": false,
     "start_time": "2024-07-02T13:24:08.768143",
     "status": "completed"
    },
    "tags": []
   },
   "source": [
    "now we will classify the sales data as low,medium and high and run a classification model like logistic regression on the same dataset"
   ]
  },
  {
   "cell_type": "code",
   "execution_count": 27,
   "id": "58a50b34",
   "metadata": {
    "execution": {
     "iopub.execute_input": "2024-07-02T13:24:08.819404Z",
     "iopub.status.busy": "2024-07-02T13:24:08.818542Z",
     "iopub.status.idle": "2024-07-02T13:24:08.825056Z",
     "shell.execute_reply": "2024-07-02T13:24:08.824123Z"
    },
    "papermill": {
     "duration": 0.026407,
     "end_time": "2024-07-02T13:24:08.827199",
     "exception": false,
     "start_time": "2024-07-02T13:24:08.800792",
     "status": "completed"
    },
    "tags": []
   },
   "outputs": [
    {
     "data": {
      "text/plain": [
       "Index(['TV Ad Budget ($)', 'Radio Ad Budget ($)', 'Newspaper Ad Budget ($)',\n",
       "       'Sales ($)'],\n",
       "      dtype='object')"
      ]
     },
     "execution_count": 27,
     "metadata": {},
     "output_type": "execute_result"
    }
   ],
   "source": [
    "df.columns"
   ]
  },
  {
   "cell_type": "code",
   "execution_count": 28,
   "id": "0e32b3ba",
   "metadata": {
    "execution": {
     "iopub.execute_input": "2024-07-02T13:24:08.862887Z",
     "iopub.status.busy": "2024-07-02T13:24:08.861925Z",
     "iopub.status.idle": "2024-07-02T13:24:08.868757Z",
     "shell.execute_reply": "2024-07-02T13:24:08.867810Z"
    },
    "papermill": {
     "duration": 0.027051,
     "end_time": "2024-07-02T13:24:08.871047",
     "exception": false,
     "start_time": "2024-07-02T13:24:08.843996",
     "status": "completed"
    },
    "tags": []
   },
   "outputs": [
    {
     "name": "stdout",
     "output_type": "stream",
     "text": [
      "[2, 0, 0, 1, 1, 0, 1, 1, 0, 0, 0, 1, 0, 0, 1, 2, 1, 2, 1, 1, 1, 1, 0, 1, 0, 1, 1, 1, 1, 0, 2, 1, 0, 1, 0, 1, 2, 1, 0, 2, 1, 1, 2, 1, 0, 1, 0, 2, 1, 0, 1, 0, 2, 2, 2, 2, 0, 1, 2, 1, 0, 2, 1, 1, 1, 0, 0, 1, 1, 2, 1, 1, 0, 0, 1, 0, 0, 1, 0, 0, 1, 1, 1, 1, 2, 1, 1, 1, 1, 1, 1, 0, 1, 2, 1, 1, 1, 1, 2, 1, 1, 2, 1, 1, 2, 1, 0, 0, 0, 1, 1, 2, 1, 1, 1, 1, 1, 0, 1, 0, 1, 0, 1, 1, 1, 0, 0, 0, 2, 0, 0, 1, 0, 1, 0, 1, 0, 2, 0, 2, 0, 1, 2, 0, 1, 0, 1, 2, 0, 0, 1, 1, 1, 1, 1, 0, 1, 0, 0, 1, 1, 1, 1, 1, 1, 1, 0, 1, 1, 1, 0, 1, 0, 1, 1, 2, 2, 1, 1, 1, 0, 1, 0, 2, 1, 2, 0, 1, 1, 0, 0, 0, 0, 1, 1, 0, 0, 1, 2, 1]\n"
     ]
    }
   ],
   "source": [
    "    list=[]\n",
    "    for i in df.iloc[:,3]:\n",
    "    \n",
    "        if i >11 and i<20:\n",
    "            i=1\n",
    "            list.append(i)\n",
    "        elif i>20:\n",
    "            i=2\n",
    "            list.append(i)\n",
    "        else:\n",
    "            i=0\n",
    "            list.append(i)\n",
    "    print(list)   "
   ]
  },
  {
   "cell_type": "code",
   "execution_count": 29,
   "id": "6ce97839",
   "metadata": {
    "execution": {
     "iopub.execute_input": "2024-07-02T13:24:08.906537Z",
     "iopub.status.busy": "2024-07-02T13:24:08.906134Z",
     "iopub.status.idle": "2024-07-02T13:24:08.911552Z",
     "shell.execute_reply": "2024-07-02T13:24:08.910569Z"
    },
    "papermill": {
     "duration": 0.025604,
     "end_time": "2024-07-02T13:24:08.913681",
     "exception": false,
     "start_time": "2024-07-02T13:24:08.888077",
     "status": "completed"
    },
    "tags": []
   },
   "outputs": [],
   "source": [
    "df['Sales_performance']=list"
   ]
  },
  {
   "cell_type": "code",
   "execution_count": 30,
   "id": "c4e33c71",
   "metadata": {
    "execution": {
     "iopub.execute_input": "2024-07-02T13:24:08.949131Z",
     "iopub.status.busy": "2024-07-02T13:24:08.948784Z",
     "iopub.status.idle": "2024-07-02T13:24:08.963773Z",
     "shell.execute_reply": "2024-07-02T13:24:08.962752Z"
    },
    "papermill": {
     "duration": 0.035049,
     "end_time": "2024-07-02T13:24:08.965922",
     "exception": false,
     "start_time": "2024-07-02T13:24:08.930873",
     "status": "completed"
    },
    "tags": []
   },
   "outputs": [
    {
     "data": {
      "text/html": [
       "<div>\n",
       "<style scoped>\n",
       "    .dataframe tbody tr th:only-of-type {\n",
       "        vertical-align: middle;\n",
       "    }\n",
       "\n",
       "    .dataframe tbody tr th {\n",
       "        vertical-align: top;\n",
       "    }\n",
       "\n",
       "    .dataframe thead th {\n",
       "        text-align: right;\n",
       "    }\n",
       "</style>\n",
       "<table border=\"1\" class=\"dataframe\">\n",
       "  <thead>\n",
       "    <tr style=\"text-align: right;\">\n",
       "      <th></th>\n",
       "      <th>TV Ad Budget ($)</th>\n",
       "      <th>Radio Ad Budget ($)</th>\n",
       "      <th>Newspaper Ad Budget ($)</th>\n",
       "      <th>Sales ($)</th>\n",
       "      <th>Sales_performance</th>\n",
       "    </tr>\n",
       "  </thead>\n",
       "  <tbody>\n",
       "    <tr>\n",
       "      <th>0</th>\n",
       "      <td>230.1</td>\n",
       "      <td>37.8</td>\n",
       "      <td>69.2</td>\n",
       "      <td>22.1</td>\n",
       "      <td>2</td>\n",
       "    </tr>\n",
       "    <tr>\n",
       "      <th>1</th>\n",
       "      <td>44.5</td>\n",
       "      <td>39.3</td>\n",
       "      <td>45.1</td>\n",
       "      <td>10.4</td>\n",
       "      <td>0</td>\n",
       "    </tr>\n",
       "    <tr>\n",
       "      <th>2</th>\n",
       "      <td>17.2</td>\n",
       "      <td>45.9</td>\n",
       "      <td>69.3</td>\n",
       "      <td>9.3</td>\n",
       "      <td>0</td>\n",
       "    </tr>\n",
       "    <tr>\n",
       "      <th>3</th>\n",
       "      <td>151.5</td>\n",
       "      <td>41.3</td>\n",
       "      <td>58.5</td>\n",
       "      <td>18.5</td>\n",
       "      <td>1</td>\n",
       "    </tr>\n",
       "    <tr>\n",
       "      <th>4</th>\n",
       "      <td>180.8</td>\n",
       "      <td>10.8</td>\n",
       "      <td>58.4</td>\n",
       "      <td>12.9</td>\n",
       "      <td>1</td>\n",
       "    </tr>\n",
       "    <tr>\n",
       "      <th>...</th>\n",
       "      <td>...</td>\n",
       "      <td>...</td>\n",
       "      <td>...</td>\n",
       "      <td>...</td>\n",
       "      <td>...</td>\n",
       "    </tr>\n",
       "    <tr>\n",
       "      <th>195</th>\n",
       "      <td>38.2</td>\n",
       "      <td>3.7</td>\n",
       "      <td>13.8</td>\n",
       "      <td>7.6</td>\n",
       "      <td>0</td>\n",
       "    </tr>\n",
       "    <tr>\n",
       "      <th>196</th>\n",
       "      <td>94.2</td>\n",
       "      <td>4.9</td>\n",
       "      <td>8.1</td>\n",
       "      <td>9.7</td>\n",
       "      <td>0</td>\n",
       "    </tr>\n",
       "    <tr>\n",
       "      <th>197</th>\n",
       "      <td>177.0</td>\n",
       "      <td>9.3</td>\n",
       "      <td>6.4</td>\n",
       "      <td>12.8</td>\n",
       "      <td>1</td>\n",
       "    </tr>\n",
       "    <tr>\n",
       "      <th>198</th>\n",
       "      <td>283.6</td>\n",
       "      <td>42.0</td>\n",
       "      <td>66.2</td>\n",
       "      <td>25.5</td>\n",
       "      <td>2</td>\n",
       "    </tr>\n",
       "    <tr>\n",
       "      <th>199</th>\n",
       "      <td>232.1</td>\n",
       "      <td>8.6</td>\n",
       "      <td>8.7</td>\n",
       "      <td>13.4</td>\n",
       "      <td>1</td>\n",
       "    </tr>\n",
       "  </tbody>\n",
       "</table>\n",
       "<p>200 rows × 5 columns</p>\n",
       "</div>"
      ],
      "text/plain": [
       "     TV Ad Budget ($)  Radio Ad Budget ($)  Newspaper Ad Budget ($)  \\\n",
       "0               230.1                 37.8                     69.2   \n",
       "1                44.5                 39.3                     45.1   \n",
       "2                17.2                 45.9                     69.3   \n",
       "3               151.5                 41.3                     58.5   \n",
       "4               180.8                 10.8                     58.4   \n",
       "..                ...                  ...                      ...   \n",
       "195              38.2                  3.7                     13.8   \n",
       "196              94.2                  4.9                      8.1   \n",
       "197             177.0                  9.3                      6.4   \n",
       "198             283.6                 42.0                     66.2   \n",
       "199             232.1                  8.6                      8.7   \n",
       "\n",
       "     Sales ($)  Sales_performance  \n",
       "0         22.1                  2  \n",
       "1         10.4                  0  \n",
       "2          9.3                  0  \n",
       "3         18.5                  1  \n",
       "4         12.9                  1  \n",
       "..         ...                ...  \n",
       "195        7.6                  0  \n",
       "196        9.7                  0  \n",
       "197       12.8                  1  \n",
       "198       25.5                  2  \n",
       "199       13.4                  1  \n",
       "\n",
       "[200 rows x 5 columns]"
      ]
     },
     "execution_count": 30,
     "metadata": {},
     "output_type": "execute_result"
    }
   ],
   "source": [
    "df"
   ]
  },
  {
   "cell_type": "code",
   "execution_count": 31,
   "id": "073da886",
   "metadata": {
    "execution": {
     "iopub.execute_input": "2024-07-02T13:24:09.001860Z",
     "iopub.status.busy": "2024-07-02T13:24:09.001481Z",
     "iopub.status.idle": "2024-07-02T13:24:09.007230Z",
     "shell.execute_reply": "2024-07-02T13:24:09.006216Z"
    },
    "papermill": {
     "duration": 0.02668,
     "end_time": "2024-07-02T13:24:09.009721",
     "exception": false,
     "start_time": "2024-07-02T13:24:08.983041",
     "status": "completed"
    },
    "tags": []
   },
   "outputs": [],
   "source": [
    "x=df.iloc[:,[0,1,2]]\n",
    "y=df.iloc[:,4]"
   ]
  },
  {
   "cell_type": "code",
   "execution_count": 32,
   "id": "f186ae6e",
   "metadata": {
    "execution": {
     "iopub.execute_input": "2024-07-02T13:24:09.046056Z",
     "iopub.status.busy": "2024-07-02T13:24:09.045690Z",
     "iopub.status.idle": "2024-07-02T13:24:09.053324Z",
     "shell.execute_reply": "2024-07-02T13:24:09.052373Z"
    },
    "papermill": {
     "duration": 0.027991,
     "end_time": "2024-07-02T13:24:09.055369",
     "exception": false,
     "start_time": "2024-07-02T13:24:09.027378",
     "status": "completed"
    },
    "tags": []
   },
   "outputs": [
    {
     "data": {
      "text/plain": [
       "0      2\n",
       "1      0\n",
       "2      0\n",
       "3      1\n",
       "4      1\n",
       "      ..\n",
       "195    0\n",
       "196    0\n",
       "197    1\n",
       "198    2\n",
       "199    1\n",
       "Name: Sales_performance, Length: 200, dtype: int64"
      ]
     },
     "execution_count": 32,
     "metadata": {},
     "output_type": "execute_result"
    }
   ],
   "source": [
    "y"
   ]
  },
  {
   "cell_type": "code",
   "execution_count": null,
   "id": "a13c971d",
   "metadata": {
    "papermill": {
     "duration": 0.016871,
     "end_time": "2024-07-02T13:24:09.090001",
     "exception": false,
     "start_time": "2024-07-02T13:24:09.073130",
     "status": "completed"
    },
    "tags": []
   },
   "outputs": [],
   "source": []
  },
  {
   "cell_type": "code",
   "execution_count": 33,
   "id": "7d3d023d",
   "metadata": {
    "execution": {
     "iopub.execute_input": "2024-07-02T13:24:09.126476Z",
     "iopub.status.busy": "2024-07-02T13:24:09.125573Z",
     "iopub.status.idle": "2024-07-02T13:24:09.132429Z",
     "shell.execute_reply": "2024-07-02T13:24:09.131432Z"
    },
    "papermill": {
     "duration": 0.027391,
     "end_time": "2024-07-02T13:24:09.134536",
     "exception": false,
     "start_time": "2024-07-02T13:24:09.107145",
     "status": "completed"
    },
    "tags": []
   },
   "outputs": [],
   "source": [
    "x_train,x_test,y_train,y_test=train_test_split(x,y,test_size=0.2,random_state=9)"
   ]
  },
  {
   "cell_type": "code",
   "execution_count": 34,
   "id": "909771f2",
   "metadata": {
    "execution": {
     "iopub.execute_input": "2024-07-02T13:24:09.170775Z",
     "iopub.status.busy": "2024-07-02T13:24:09.170113Z",
     "iopub.status.idle": "2024-07-02T13:24:09.174589Z",
     "shell.execute_reply": "2024-07-02T13:24:09.173639Z"
    },
    "papermill": {
     "duration": 0.024936,
     "end_time": "2024-07-02T13:24:09.176701",
     "exception": false,
     "start_time": "2024-07-02T13:24:09.151765",
     "status": "completed"
    },
    "tags": []
   },
   "outputs": [],
   "source": [
    "from sklearn.linear_model import LogisticRegression"
   ]
  },
  {
   "cell_type": "code",
   "execution_count": 35,
   "id": "7e9a7c61",
   "metadata": {
    "execution": {
     "iopub.execute_input": "2024-07-02T13:24:09.214516Z",
     "iopub.status.busy": "2024-07-02T13:24:09.213788Z",
     "iopub.status.idle": "2024-07-02T13:24:09.218218Z",
     "shell.execute_reply": "2024-07-02T13:24:09.217304Z"
    },
    "papermill": {
     "duration": 0.025629,
     "end_time": "2024-07-02T13:24:09.220225",
     "exception": false,
     "start_time": "2024-07-02T13:24:09.194596",
     "status": "completed"
    },
    "tags": []
   },
   "outputs": [],
   "source": [
    "model2=LogisticRegression()"
   ]
  },
  {
   "cell_type": "code",
   "execution_count": 36,
   "id": "9fe26bbc",
   "metadata": {
    "execution": {
     "iopub.execute_input": "2024-07-02T13:24:09.256790Z",
     "iopub.status.busy": "2024-07-02T13:24:09.256126Z",
     "iopub.status.idle": "2024-07-02T13:24:09.262422Z",
     "shell.execute_reply": "2024-07-02T13:24:09.261483Z"
    },
    "papermill": {
     "duration": 0.026905,
     "end_time": "2024-07-02T13:24:09.264405",
     "exception": false,
     "start_time": "2024-07-02T13:24:09.237500",
     "status": "completed"
    },
    "tags": []
   },
   "outputs": [
    {
     "data": {
      "text/plain": [
       "(160, 3)"
      ]
     },
     "execution_count": 36,
     "metadata": {},
     "output_type": "execute_result"
    }
   ],
   "source": [
    "x_train.shape"
   ]
  },
  {
   "cell_type": "code",
   "execution_count": 37,
   "id": "a31ffd65",
   "metadata": {
    "execution": {
     "iopub.execute_input": "2024-07-02T13:24:09.300800Z",
     "iopub.status.busy": "2024-07-02T13:24:09.300417Z",
     "iopub.status.idle": "2024-07-02T13:24:09.306746Z",
     "shell.execute_reply": "2024-07-02T13:24:09.305831Z"
    },
    "papermill": {
     "duration": 0.027129,
     "end_time": "2024-07-02T13:24:09.308936",
     "exception": false,
     "start_time": "2024-07-02T13:24:09.281807",
     "status": "completed"
    },
    "tags": []
   },
   "outputs": [
    {
     "data": {
      "text/plain": [
       "(160,)"
      ]
     },
     "execution_count": 37,
     "metadata": {},
     "output_type": "execute_result"
    }
   ],
   "source": [
    "y_train.shape"
   ]
  },
  {
   "cell_type": "code",
   "execution_count": 38,
   "id": "431900b0",
   "metadata": {
    "execution": {
     "iopub.execute_input": "2024-07-02T13:24:09.345944Z",
     "iopub.status.busy": "2024-07-02T13:24:09.345051Z",
     "iopub.status.idle": "2024-07-02T13:24:09.378253Z",
     "shell.execute_reply": "2024-07-02T13:24:09.376957Z"
    },
    "papermill": {
     "duration": 0.054658,
     "end_time": "2024-07-02T13:24:09.381174",
     "exception": false,
     "start_time": "2024-07-02T13:24:09.326516",
     "status": "completed"
    },
    "tags": []
   },
   "outputs": [
    {
     "name": "stderr",
     "output_type": "stream",
     "text": [
      "/opt/conda/lib/python3.10/site-packages/sklearn/linear_model/_logistic.py:458: ConvergenceWarning: lbfgs failed to converge (status=1):\n",
      "STOP: TOTAL NO. of ITERATIONS REACHED LIMIT.\n",
      "\n",
      "Increase the number of iterations (max_iter) or scale the data as shown in:\n",
      "    https://scikit-learn.org/stable/modules/preprocessing.html\n",
      "Please also refer to the documentation for alternative solver options:\n",
      "    https://scikit-learn.org/stable/modules/linear_model.html#logistic-regression\n",
      "  n_iter_i = _check_optimize_result(\n"
     ]
    },
    {
     "data": {
      "text/html": [
       "<style>#sk-container-id-3 {color: black;background-color: white;}#sk-container-id-3 pre{padding: 0;}#sk-container-id-3 div.sk-toggleable {background-color: white;}#sk-container-id-3 label.sk-toggleable__label {cursor: pointer;display: block;width: 100%;margin-bottom: 0;padding: 0.3em;box-sizing: border-box;text-align: center;}#sk-container-id-3 label.sk-toggleable__label-arrow:before {content: \"▸\";float: left;margin-right: 0.25em;color: #696969;}#sk-container-id-3 label.sk-toggleable__label-arrow:hover:before {color: black;}#sk-container-id-3 div.sk-estimator:hover label.sk-toggleable__label-arrow:before {color: black;}#sk-container-id-3 div.sk-toggleable__content {max-height: 0;max-width: 0;overflow: hidden;text-align: left;background-color: #f0f8ff;}#sk-container-id-3 div.sk-toggleable__content pre {margin: 0.2em;color: black;border-radius: 0.25em;background-color: #f0f8ff;}#sk-container-id-3 input.sk-toggleable__control:checked~div.sk-toggleable__content {max-height: 200px;max-width: 100%;overflow: auto;}#sk-container-id-3 input.sk-toggleable__control:checked~label.sk-toggleable__label-arrow:before {content: \"▾\";}#sk-container-id-3 div.sk-estimator input.sk-toggleable__control:checked~label.sk-toggleable__label {background-color: #d4ebff;}#sk-container-id-3 div.sk-label input.sk-toggleable__control:checked~label.sk-toggleable__label {background-color: #d4ebff;}#sk-container-id-3 input.sk-hidden--visually {border: 0;clip: rect(1px 1px 1px 1px);clip: rect(1px, 1px, 1px, 1px);height: 1px;margin: -1px;overflow: hidden;padding: 0;position: absolute;width: 1px;}#sk-container-id-3 div.sk-estimator {font-family: monospace;background-color: #f0f8ff;border: 1px dotted black;border-radius: 0.25em;box-sizing: border-box;margin-bottom: 0.5em;}#sk-container-id-3 div.sk-estimator:hover {background-color: #d4ebff;}#sk-container-id-3 div.sk-parallel-item::after {content: \"\";width: 100%;border-bottom: 1px solid gray;flex-grow: 1;}#sk-container-id-3 div.sk-label:hover label.sk-toggleable__label {background-color: #d4ebff;}#sk-container-id-3 div.sk-serial::before {content: \"\";position: absolute;border-left: 1px solid gray;box-sizing: border-box;top: 0;bottom: 0;left: 50%;z-index: 0;}#sk-container-id-3 div.sk-serial {display: flex;flex-direction: column;align-items: center;background-color: white;padding-right: 0.2em;padding-left: 0.2em;position: relative;}#sk-container-id-3 div.sk-item {position: relative;z-index: 1;}#sk-container-id-3 div.sk-parallel {display: flex;align-items: stretch;justify-content: center;background-color: white;position: relative;}#sk-container-id-3 div.sk-item::before, #sk-container-id-3 div.sk-parallel-item::before {content: \"\";position: absolute;border-left: 1px solid gray;box-sizing: border-box;top: 0;bottom: 0;left: 50%;z-index: -1;}#sk-container-id-3 div.sk-parallel-item {display: flex;flex-direction: column;z-index: 1;position: relative;background-color: white;}#sk-container-id-3 div.sk-parallel-item:first-child::after {align-self: flex-end;width: 50%;}#sk-container-id-3 div.sk-parallel-item:last-child::after {align-self: flex-start;width: 50%;}#sk-container-id-3 div.sk-parallel-item:only-child::after {width: 0;}#sk-container-id-3 div.sk-dashed-wrapped {border: 1px dashed gray;margin: 0 0.4em 0.5em 0.4em;box-sizing: border-box;padding-bottom: 0.4em;background-color: white;}#sk-container-id-3 div.sk-label label {font-family: monospace;font-weight: bold;display: inline-block;line-height: 1.2em;}#sk-container-id-3 div.sk-label-container {text-align: center;}#sk-container-id-3 div.sk-container {/* jupyter's `normalize.less` sets `[hidden] { display: none; }` but bootstrap.min.css set `[hidden] { display: none !important; }` so we also need the `!important` here to be able to override the default hidden behavior on the sphinx rendered scikit-learn.org. See: https://github.com/scikit-learn/scikit-learn/issues/21755 */display: inline-block !important;position: relative;}#sk-container-id-3 div.sk-text-repr-fallback {display: none;}</style><div id=\"sk-container-id-3\" class=\"sk-top-container\"><div class=\"sk-text-repr-fallback\"><pre>LogisticRegression()</pre><b>In a Jupyter environment, please rerun this cell to show the HTML representation or trust the notebook. <br />On GitHub, the HTML representation is unable to render, please try loading this page with nbviewer.org.</b></div><div class=\"sk-container\" hidden><div class=\"sk-item\"><div class=\"sk-estimator sk-toggleable\"><input class=\"sk-toggleable__control sk-hidden--visually\" id=\"sk-estimator-id-3\" type=\"checkbox\" checked><label for=\"sk-estimator-id-3\" class=\"sk-toggleable__label sk-toggleable__label-arrow\">LogisticRegression</label><div class=\"sk-toggleable__content\"><pre>LogisticRegression()</pre></div></div></div></div></div>"
      ],
      "text/plain": [
       "LogisticRegression()"
      ]
     },
     "execution_count": 38,
     "metadata": {},
     "output_type": "execute_result"
    }
   ],
   "source": [
    "model2.fit(x_train,y_train)"
   ]
  },
  {
   "cell_type": "code",
   "execution_count": 39,
   "id": "465cc886",
   "metadata": {
    "execution": {
     "iopub.execute_input": "2024-07-02T13:24:09.418668Z",
     "iopub.status.busy": "2024-07-02T13:24:09.417948Z",
     "iopub.status.idle": "2024-07-02T13:24:09.426204Z",
     "shell.execute_reply": "2024-07-02T13:24:09.425272Z"
    },
    "papermill": {
     "duration": 0.029157,
     "end_time": "2024-07-02T13:24:09.428277",
     "exception": false,
     "start_time": "2024-07-02T13:24:09.399120",
     "status": "completed"
    },
    "tags": []
   },
   "outputs": [
    {
     "data": {
      "text/plain": [
       "array([2, 0, 2, 2, 1, 0, 2, 1, 1, 2, 1, 2, 0, 1, 1, 1, 1, 1, 1, 2, 1, 0,\n",
       "       1, 1, 2, 2, 0, 1, 1, 1, 1, 1, 1, 2, 0, 0, 1, 0, 0, 0])"
      ]
     },
     "execution_count": 39,
     "metadata": {},
     "output_type": "execute_result"
    }
   ],
   "source": [
    "y_predict=model2.predict(x_test)\n",
    "y_predict"
   ]
  },
  {
   "cell_type": "code",
   "execution_count": 40,
   "id": "da92eeb7",
   "metadata": {
    "execution": {
     "iopub.execute_input": "2024-07-02T13:24:09.466646Z",
     "iopub.status.busy": "2024-07-02T13:24:09.465738Z",
     "iopub.status.idle": "2024-07-02T13:24:09.472200Z",
     "shell.execute_reply": "2024-07-02T13:24:09.471323Z"
    },
    "papermill": {
     "duration": 0.027812,
     "end_time": "2024-07-02T13:24:09.474252",
     "exception": false,
     "start_time": "2024-07-02T13:24:09.446440",
     "status": "completed"
    },
    "tags": []
   },
   "outputs": [
    {
     "data": {
      "text/plain": [
       "array([2, 0, 2, 1, 1, 0, 2, 1, 1, 2, 1, 2, 0, 1, 1, 1, 1, 1, 1, 2, 1, 0,\n",
       "       0, 1, 2, 2, 0, 1, 1, 1, 0, 1, 1, 2, 0, 0, 1, 1, 0, 0])"
      ]
     },
     "execution_count": 40,
     "metadata": {},
     "output_type": "execute_result"
    }
   ],
   "source": [
    "y_test=np.array(y_test)\n",
    "y_test"
   ]
  },
  {
   "cell_type": "code",
   "execution_count": 41,
   "id": "55babfe1",
   "metadata": {
    "execution": {
     "iopub.execute_input": "2024-07-02T13:24:09.511912Z",
     "iopub.status.busy": "2024-07-02T13:24:09.511539Z",
     "iopub.status.idle": "2024-07-02T13:24:09.518008Z",
     "shell.execute_reply": "2024-07-02T13:24:09.516581Z"
    },
    "papermill": {
     "duration": 0.027123,
     "end_time": "2024-07-02T13:24:09.519462",
     "exception": true,
     "start_time": "2024-07-02T13:24:09.492339",
     "status": "failed"
    },
    "tags": []
   },
   "outputs": [
    {
     "ename": "SyntaxError",
     "evalue": "invalid syntax (2746308676.py, line 2)",
     "output_type": "error",
     "traceback": [
      "\u001b[0;36m  Cell \u001b[0;32mIn[41], line 2\u001b[0;36m\u001b[0m\n\u001b[0;31m    data1\u001b[0m\n\u001b[0m    ^\u001b[0m\n\u001b[0;31mSyntaxError\u001b[0m\u001b[0;31m:\u001b[0m invalid syntax\n"
     ]
    }
   ],
   "source": [
    "data1=pd.DataFrame({'actual':y_test,'predicted':y_predict})\\\n",
    "data1"
   ]
  },
  {
   "cell_type": "code",
   "execution_count": null,
   "id": "1b3e13b8",
   "metadata": {
    "execution": {
     "iopub.execute_input": "2024-07-02T01:17:06.404994Z",
     "iopub.status.busy": "2024-07-02T01:17:06.404606Z",
     "iopub.status.idle": "2024-07-02T01:17:06.418329Z",
     "shell.execute_reply": "2024-07-02T01:17:06.417028Z",
     "shell.execute_reply.started": "2024-07-02T01:17:06.404967Z"
    },
    "papermill": {
     "duration": null,
     "end_time": null,
     "exception": null,
     "start_time": null,
     "status": "pending"
    },
    "tags": []
   },
   "outputs": [],
   "source": [
    "sales=pd.DataFrame({'actual':y_test,'predicted':y_predict})\n",
    "sales"
   ]
  },
  {
   "cell_type": "code",
   "execution_count": null,
   "id": "23544594",
   "metadata": {
    "execution": {
     "iopub.execute_input": "2024-07-02T01:21:45.393040Z",
     "iopub.status.busy": "2024-07-02T01:21:45.392643Z",
     "iopub.status.idle": "2024-07-02T01:21:45.404109Z",
     "shell.execute_reply": "2024-07-02T01:21:45.402711Z",
     "shell.execute_reply.started": "2024-07-02T01:21:45.393012Z"
    },
    "papermill": {
     "duration": null,
     "end_time": null,
     "exception": null,
     "start_time": null,
     "status": "pending"
    },
    "tags": []
   },
   "outputs": [],
   "source": [
    "model2.predict_proba(x_test)"
   ]
  },
  {
   "cell_type": "markdown",
   "id": "4efdfba9",
   "metadata": {
    "execution": {
     "iopub.execute_input": "2024-07-01T11:06:13.099452Z",
     "iopub.status.busy": "2024-07-01T11:06:13.099061Z",
     "iopub.status.idle": "2024-07-01T11:06:13.126278Z",
     "shell.execute_reply": "2024-07-01T11:06:13.124950Z",
     "shell.execute_reply.started": "2024-07-01T11:06:13.099423Z"
    },
    "papermill": {
     "duration": null,
     "end_time": null,
     "exception": null,
     "start_time": null,
     "status": "pending"
    },
    "tags": []
   },
   "source": [
    "print(classification_report(y_test,y_predict))"
   ]
  },
  {
   "cell_type": "code",
   "execution_count": null,
   "id": "e4b0f362",
   "metadata": {
    "execution": {
     "iopub.execute_input": "2024-07-02T01:18:30.071504Z",
     "iopub.status.busy": "2024-07-02T01:18:30.071068Z",
     "iopub.status.idle": "2024-07-02T01:18:30.076791Z",
     "shell.execute_reply": "2024-07-02T01:18:30.075439Z",
     "shell.execute_reply.started": "2024-07-02T01:18:30.071451Z"
    },
    "papermill": {
     "duration": null,
     "end_time": null,
     "exception": null,
     "start_time": null,
     "status": "pending"
    },
    "tags": []
   },
   "outputs": [],
   "source": [
    "from sklearn.metrics import classification_report"
   ]
  },
  {
   "cell_type": "markdown",
   "id": "dbd2a443",
   "metadata": {
    "execution": {
     "iopub.execute_input": "2024-07-01T11:07:58.107698Z",
     "iopub.status.busy": "2024-07-01T11:07:58.107333Z",
     "iopub.status.idle": "2024-07-01T11:07:58.124904Z",
     "shell.execute_reply": "2024-07-01T11:07:58.123658Z",
     "shell.execute_reply.started": "2024-07-01T11:07:58.107668Z"
    },
    "papermill": {
     "duration": null,
     "end_time": null,
     "exception": null,
     "start_time": null,
     "status": "pending"
    },
    "tags": []
   },
   "source": [
    "print(classification_report(y_test,y_predict))"
   ]
  },
  {
   "cell_type": "code",
   "execution_count": null,
   "id": "67cba956",
   "metadata": {
    "execution": {
     "iopub.execute_input": "2024-07-02T01:18:55.295275Z",
     "iopub.status.busy": "2024-07-02T01:18:55.294866Z",
     "iopub.status.idle": "2024-07-02T01:18:55.311216Z",
     "shell.execute_reply": "2024-07-02T01:18:55.309680Z",
     "shell.execute_reply.started": "2024-07-02T01:18:55.295246Z"
    },
    "papermill": {
     "duration": null,
     "end_time": null,
     "exception": null,
     "start_time": null,
     "status": "pending"
    },
    "tags": []
   },
   "outputs": [],
   "source": [
    "print(classification_report(y_test,y_predict))"
   ]
  },
  {
   "cell_type": "code",
   "execution_count": null,
   "id": "05441dad",
   "metadata": {
    "papermill": {
     "duration": null,
     "end_time": null,
     "exception": null,
     "start_time": null,
     "status": "pending"
    },
    "tags": []
   },
   "outputs": [],
   "source": []
  },
  {
   "cell_type": "code",
   "execution_count": null,
   "id": "5544611f",
   "metadata": {
    "papermill": {
     "duration": null,
     "end_time": null,
     "exception": null,
     "start_time": null,
     "status": "pending"
    },
    "tags": []
   },
   "outputs": [],
   "source": []
  },
  {
   "cell_type": "code",
   "execution_count": null,
   "id": "565cba1f",
   "metadata": {
    "papermill": {
     "duration": null,
     "end_time": null,
     "exception": null,
     "start_time": null,
     "status": "pending"
    },
    "tags": []
   },
   "outputs": [],
   "source": [
    "NOW LET US USE A DECISION TREE CLASSIFIER"
   ]
  },
  {
   "cell_type": "code",
   "execution_count": null,
   "id": "ee82fe73",
   "metadata": {
    "execution": {
     "iopub.execute_input": "2024-07-01T11:56:32.025365Z",
     "iopub.status.busy": "2024-07-01T11:56:32.024258Z",
     "iopub.status.idle": "2024-07-01T11:56:32.030442Z",
     "shell.execute_reply": "2024-07-01T11:56:32.029034Z",
     "shell.execute_reply.started": "2024-07-01T11:56:32.025272Z"
    },
    "papermill": {
     "duration": null,
     "end_time": null,
     "exception": null,
     "start_time": null,
     "status": "pending"
    },
    "tags": []
   },
   "outputs": [],
   "source": [
    "from sklearn.tree import DecisionTreeClassifier"
   ]
  },
  {
   "cell_type": "code",
   "execution_count": null,
   "id": "4b727fa4",
   "metadata": {
    "execution": {
     "iopub.execute_input": "2024-07-01T11:56:35.368765Z",
     "iopub.status.busy": "2024-07-01T11:56:35.368034Z",
     "iopub.status.idle": "2024-07-01T11:56:35.373566Z",
     "shell.execute_reply": "2024-07-01T11:56:35.372281Z",
     "shell.execute_reply.started": "2024-07-01T11:56:35.368724Z"
    },
    "papermill": {
     "duration": null,
     "end_time": null,
     "exception": null,
     "start_time": null,
     "status": "pending"
    },
    "tags": []
   },
   "outputs": [],
   "source": [
    "model4=DecisionTreeClassifier()"
   ]
  },
  {
   "cell_type": "code",
   "execution_count": null,
   "id": "fc06bbc2",
   "metadata": {
    "execution": {
     "iopub.execute_input": "2024-07-01T11:59:24.961483Z",
     "iopub.status.busy": "2024-07-01T11:59:24.961039Z",
     "iopub.status.idle": "2024-07-01T11:59:24.979193Z",
     "shell.execute_reply": "2024-07-01T11:59:24.977894Z",
     "shell.execute_reply.started": "2024-07-01T11:59:24.961448Z"
    },
    "papermill": {
     "duration": null,
     "end_time": null,
     "exception": null,
     "start_time": null,
     "status": "pending"
    },
    "tags": []
   },
   "outputs": [],
   "source": [
    "model4.fit(x_train,y_train)"
   ]
  },
  {
   "cell_type": "code",
   "execution_count": null,
   "id": "6c713a96",
   "metadata": {
    "execution": {
     "iopub.execute_input": "2024-07-01T11:59:52.222255Z",
     "iopub.status.busy": "2024-07-01T11:59:52.221534Z",
     "iopub.status.idle": "2024-07-01T11:59:52.231250Z",
     "shell.execute_reply": "2024-07-01T11:59:52.230075Z",
     "shell.execute_reply.started": "2024-07-01T11:59:52.222216Z"
    },
    "papermill": {
     "duration": null,
     "end_time": null,
     "exception": null,
     "start_time": null,
     "status": "pending"
    },
    "tags": []
   },
   "outputs": [],
   "source": [
    "pr=model4.predict(x_test)\n",
    "pr"
   ]
  },
  {
   "cell_type": "code",
   "execution_count": null,
   "id": "53602c29",
   "metadata": {
    "execution": {
     "iopub.execute_input": "2024-07-01T12:00:54.203671Z",
     "iopub.status.busy": "2024-07-01T12:00:54.203260Z",
     "iopub.status.idle": "2024-07-01T12:00:54.219947Z",
     "shell.execute_reply": "2024-07-01T12:00:54.218725Z",
     "shell.execute_reply.started": "2024-07-01T12:00:54.203638Z"
    },
    "papermill": {
     "duration": null,
     "end_time": null,
     "exception": null,
     "start_time": null,
     "status": "pending"
    },
    "tags": []
   },
   "outputs": [],
   "source": [
    "print(classification_report(y_test,pr))"
   ]
  },
  {
   "cell_type": "code",
   "execution_count": null,
   "id": "fa143330",
   "metadata": {
    "execution": {
     "iopub.execute_input": "2024-07-01T12:02:23.868757Z",
     "iopub.status.busy": "2024-07-01T12:02:23.868304Z",
     "iopub.status.idle": "2024-07-01T12:02:23.874846Z",
     "shell.execute_reply": "2024-07-01T12:02:23.873595Z",
     "shell.execute_reply.started": "2024-07-01T12:02:23.868724Z"
    },
    "papermill": {
     "duration": null,
     "end_time": null,
     "exception": null,
     "start_time": null,
     "status": "pending"
    },
    "tags": []
   },
   "outputs": [],
   "source": [
    "from sklearn.metrics import confusion_matrix"
   ]
  },
  {
   "cell_type": "code",
   "execution_count": null,
   "id": "bd80b2cc",
   "metadata": {
    "execution": {
     "iopub.execute_input": "2024-07-01T12:02:26.600388Z",
     "iopub.status.busy": "2024-07-01T12:02:26.599938Z",
     "iopub.status.idle": "2024-07-01T12:02:26.610414Z",
     "shell.execute_reply": "2024-07-01T12:02:26.609247Z",
     "shell.execute_reply.started": "2024-07-01T12:02:26.600346Z"
    },
    "papermill": {
     "duration": null,
     "end_time": null,
     "exception": null,
     "start_time": null,
     "status": "pending"
    },
    "tags": []
   },
   "outputs": [],
   "source": [
    "confusion_matrix(y_test,pr)"
   ]
  },
  {
   "cell_type": "code",
   "execution_count": null,
   "id": "ae306304",
   "metadata": {
    "execution": {
     "iopub.execute_input": "2024-07-01T12:04:53.986261Z",
     "iopub.status.busy": "2024-07-01T12:04:53.985848Z",
     "iopub.status.idle": "2024-07-01T12:04:53.995837Z",
     "shell.execute_reply": "2024-07-01T12:04:53.994437Z",
     "shell.execute_reply.started": "2024-07-01T12:04:53.986220Z"
    },
    "papermill": {
     "duration": null,
     "end_time": null,
     "exception": null,
     "start_time": null,
     "status": "pending"
    },
    "tags": []
   },
   "outputs": [],
   "source": [
    "\n",
    "y=model4.predict_proba(x_test)\n",
    "y[1]"
   ]
  },
  {
   "cell_type": "code",
   "execution_count": null,
   "id": "646526eb",
   "metadata": {
    "papermill": {
     "duration": null,
     "end_time": null,
     "exception": null,
     "start_time": null,
     "status": "pending"
    },
    "tags": []
   },
   "outputs": [],
   "source": []
  },
  {
   "cell_type": "code",
   "execution_count": null,
   "id": "95836570",
   "metadata": {
    "papermill": {
     "duration": null,
     "end_time": null,
     "exception": null,
     "start_time": null,
     "status": "pending"
    },
    "tags": []
   },
   "outputs": [],
   "source": []
  },
  {
   "cell_type": "code",
   "execution_count": null,
   "id": "cbc0902a",
   "metadata": {
    "papermill": {
     "duration": null,
     "end_time": null,
     "exception": null,
     "start_time": null,
     "status": "pending"
    },
    "tags": []
   },
   "outputs": [],
   "source": []
  }
 ],
 "metadata": {
  "kaggle": {
   "accelerator": "none",
   "dataSources": [
    {
     "datasetId": 5302906,
     "sourceId": 8815513,
     "sourceType": "datasetVersion"
    },
    {
     "datasetId": 5302928,
     "sourceId": 8815541,
     "sourceType": "datasetVersion"
    }
   ],
   "dockerImageVersionId": 30732,
   "isGpuEnabled": false,
   "isInternetEnabled": true,
   "language": "python",
   "sourceType": "notebook"
  },
  "kernelspec": {
   "display_name": "Python 3",
   "language": "python",
   "name": "python3"
  },
  "language_info": {
   "codemirror_mode": {
    "name": "ipython",
    "version": 3
   },
   "file_extension": ".py",
   "mimetype": "text/x-python",
   "name": "python",
   "nbconvert_exporter": "python",
   "pygments_lexer": "ipython3",
   "version": "3.10.13"
  },
  "papermill": {
   "default_parameters": {},
   "duration": 7.65152,
   "end_time": "2024-07-02T13:24:10.158995",
   "environment_variables": {},
   "exception": true,
   "input_path": "__notebook__.ipynb",
   "output_path": "__notebook__.ipynb",
   "parameters": {},
   "start_time": "2024-07-02T13:24:02.507475",
   "version": "2.5.0"
  }
 },
 "nbformat": 4,
 "nbformat_minor": 5
}
