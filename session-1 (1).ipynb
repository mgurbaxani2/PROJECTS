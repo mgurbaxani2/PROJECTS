{
 "cells": [
  {
   "cell_type": "markdown",
   "id": "445007d6",
   "metadata": {},
   "source": [
    "This session we will understand about python basics"
   ]
  },
  {
   "cell_type": "code",
   "execution_count": null,
   "id": "d49b2f44",
   "metadata": {},
   "outputs": [],
   "source": [
    "print(\"faiz khatri\") # abc"
   ]
  },
  {
   "cell_type": "code",
   "execution_count": null,
   "id": "11ef485a",
   "metadata": {},
   "outputs": [],
   "source": []
  },
  {
   "cell_type": "code",
   "execution_count": null,
   "id": "47a52080",
   "metadata": {},
   "outputs": [],
   "source": [
    "a = 12"
   ]
  },
  {
   "cell_type": "code",
   "execution_count": null,
   "id": "d849397e",
   "metadata": {},
   "outputs": [],
   "source": [
    "print(a)"
   ]
  },
  {
   "cell_type": "code",
   "execution_count": null,
   "id": "29d6b378",
   "metadata": {},
   "outputs": [],
   "source": [
    "b = 36"
   ]
  },
  {
   "cell_type": "code",
   "execution_count": null,
   "id": "271c1322",
   "metadata": {},
   "outputs": [],
   "source": [
    "c = a + b"
   ]
  },
  {
   "cell_type": "code",
   "execution_count": null,
   "id": "a528c144",
   "metadata": {},
   "outputs": [],
   "source": [
    "print(c)"
   ]
  },
  {
   "cell_type": "code",
   "execution_count": null,
   "id": "62057bf6",
   "metadata": {},
   "outputs": [],
   "source": [
    "# data types\n",
    "\n",
    "# integer -> int -> 2,78,34567\n",
    "# float -> float -> 56.90,2.9\n",
    "# string -> str - > \"asdfghjj!@#$%23456\"\n",
    "# boolean -> bool -> True False"
   ]
  },
  {
   "cell_type": "code",
   "execution_count": null,
   "id": "30ccf69a",
   "metadata": {},
   "outputs": [],
   "source": [
    "va = True"
   ]
  },
  {
   "cell_type": "code",
   "execution_count": null,
   "id": "b73cadb5",
   "metadata": {},
   "outputs": [],
   "source": [
    "type(va)"
   ]
  },
  {
   "cell_type": "code",
   "execution_count": null,
   "id": "8c193108",
   "metadata": {},
   "outputs": [],
   "source": [
    "# sequential data types"
   ]
  },
  {
   "cell_type": "code",
   "execution_count": 48,
   "id": "88ee8aa7",
   "metadata": {},
   "outputs": [],
   "source": [
    "j = 23,45,56,78,90"
   ]
  },
  {
   "cell_type": "code",
   "execution_count": 69,
   "id": "caaf744c",
   "metadata": {},
   "outputs": [],
   "source": [
    "# j.append(67)"
   ]
  },
  {
   "cell_type": "code",
   "execution_count": null,
   "id": "c683bb5b",
   "metadata": {},
   "outputs": [],
   "source": [
    "tuple -> ()\n",
    "list-> []\n",
    "dictionary -> {}\n",
    "sets -> {}"
   ]
  },
  {
   "cell_type": "code",
   "execution_count": null,
   "id": "beb1d0b4",
   "metadata": {},
   "outputs": [],
   "source": [
    "print(j)"
   ]
  },
  {
   "cell_type": "code",
   "execution_count": null,
   "id": "6bb487aa",
   "metadata": {},
   "outputs": [],
   "source": [
    "myist = [23,67,43.98,\"hello\",[1,87,44.6],34,55]"
   ]
  },
  {
   "cell_type": "code",
   "execution_count": null,
   "id": "2f00b5c0",
   "metadata": {},
   "outputs": [],
   "source": [
    "print(myist)"
   ]
  },
  {
   "cell_type": "code",
   "execution_count": null,
   "id": "1ecf0a06",
   "metadata": {},
   "outputs": [],
   "source": [
    "len(myist)"
   ]
  },
  {
   "cell_type": "code",
   "execution_count": null,
   "id": "68bbc339",
   "metadata": {},
   "outputs": [],
   "source": [
    "# indexing\n",
    "myist[-1]"
   ]
  },
  {
   "cell_type": "code",
   "execution_count": null,
   "id": "01222a06",
   "metadata": {},
   "outputs": [],
   "source": [
    "# slicing\n",
    "# start_pstion : endpotion + 1\n",
    "myist[1:4]"
   ]
  },
  {
   "cell_type": "code",
   "execution_count": 47,
   "id": "3866e9c6",
   "metadata": {},
   "outputs": [
    {
     "data": {
      "text/plain": [
       "87"
      ]
     },
     "execution_count": 47,
     "metadata": {},
     "output_type": "execute_result"
    }
   ],
   "source": [
    "myist[4][1]"
   ]
  },
  {
   "cell_type": "code",
   "execution_count": 56,
   "id": "d98efe8f",
   "metadata": {},
   "outputs": [],
   "source": [
    "myist.append(233)"
   ]
  },
  {
   "cell_type": "code",
   "execution_count": 57,
   "id": "245be438",
   "metadata": {},
   "outputs": [
    {
     "name": "stdout",
     "output_type": "stream",
     "text": [
      "[23, 67, 43.98, 'hello', [1, 87, 44.6], 34, 55, 233, 233, 233]\n"
     ]
    }
   ],
   "source": [
    "print(myist)"
   ]
  },
  {
   "cell_type": "code",
   "execution_count": 58,
   "id": "9c9caf7c",
   "metadata": {},
   "outputs": [],
   "source": [
    "myist.insert(0,\"kkk\")"
   ]
  },
  {
   "cell_type": "code",
   "execution_count": 59,
   "id": "3191d896",
   "metadata": {
    "scrolled": true
   },
   "outputs": [
    {
     "data": {
      "text/plain": [
       "['kkk', 23, 67, 43.98, 'hello', [1, 87, 44.6], 34, 55, 233, 233, 233]"
      ]
     },
     "execution_count": 59,
     "metadata": {},
     "output_type": "execute_result"
    }
   ],
   "source": [
    "myist"
   ]
  },
  {
   "cell_type": "code",
   "execution_count": 71,
   "id": "79b0b83b",
   "metadata": {},
   "outputs": [],
   "source": [
    "d = {\n",
    "    \"Name\" : \"Faiz\",\n",
    "    \"Age\" : 25,\n",
    "    \"Location\" : \"Mumbai\",\n",
    "    \"course\" : [\"AI\",\"data science\",\"data analysis\"]\n",
    "    }"
   ]
  },
  {
   "cell_type": "code",
   "execution_count": null,
   "id": "2ddca860",
   "metadata": {},
   "outputs": [],
   "source": [
    "# statements"
   ]
  },
  {
   "cell_type": "code",
   "execution_count": 74,
   "id": "bdf86f46",
   "metadata": {},
   "outputs": [],
   "source": [
    "# if, elif and else"
   ]
  },
  {
   "cell_type": "code",
   "execution_count": 81,
   "id": "43544a5c",
   "metadata": {},
   "outputs": [
    {
     "name": "stdout",
     "output_type": "stream",
     "text": [
      "ttt\n"
     ]
    }
   ],
   "source": [
    "t = 34\n",
    "if t == 65:\n",
    "    print(\"ok\")\n",
    "elif  t == 34:\n",
    "    print(\"ttt\")\n",
    "else:\n",
    "    print(\"bye\")"
   ]
  },
  {
   "cell_type": "code",
   "execution_count": 82,
   "id": "37ecab65",
   "metadata": {},
   "outputs": [],
   "source": [
    "# student will come enter their marks:\n",
    "# marks between 80 - 100 ---> A\n",
    "# marks between 60 - 79  ---> B\n",
    "# marks between 35 - 59  ---> C\n",
    "# marks between  0 - 34  ---> Fail\n",
    "\n",
    "# Negative marks not allowed and no invalid entry such as name or marks greater than 100\n",
    "\n",
    "# input()\n",
    "# statements\n",
    "# try and except"
   ]
  },
  {
   "cell_type": "code",
   "execution_count": 95,
   "id": "389f7bbd",
   "metadata": {},
   "outputs": [
    {
     "name": "stdout",
     "output_type": "stream",
     "text": [
      "enter your marks: fourty four\n",
      "Add only numeric value\n"
     ]
    }
   ],
   "source": [
    "try:\n",
    "    m = int(input(\"enter your marks: \"))\n",
    "    if m >= 80 and m < 101:\n",
    "        print(\"Grade A\")\n",
    "    elif m >= 60 and m < 80:\n",
    "        print(\"Grade B\")\n",
    "    elif m >= 35 and m < 60:\n",
    "        print(\"Grade C\")\n",
    "    elif m >= 0 and m < 35:\n",
    "        print(\"Fail\")\n",
    "    else:\n",
    "        print(\"Please Enter a valid number\")\n",
    "except:\n",
    "    print(\"Add only numeric value\")"
   ]
  },
  {
   "cell_type": "code",
   "execution_count": 87,
   "id": "43a52630",
   "metadata": {},
   "outputs": [
    {
     "name": "stdout",
     "output_type": "stream",
     "text": [
      "65\n"
     ]
    }
   ],
   "source": [
    "print(m)"
   ]
  },
  {
   "cell_type": "code",
   "execution_count": 88,
   "id": "757b178b",
   "metadata": {},
   "outputs": [
    {
     "data": {
      "text/plain": [
       "int"
      ]
     },
     "execution_count": 88,
     "metadata": {},
     "output_type": "execute_result"
    }
   ],
   "source": [
    "type(m)"
   ]
  },
  {
   "cell_type": "code",
   "execution_count": 99,
   "id": "90cc0a84",
   "metadata": {},
   "outputs": [],
   "source": [
    "# loops\n",
    "# for and while"
   ]
  },
  {
   "cell_type": "code",
   "execution_count": 104,
   "id": "8151e6f1",
   "metadata": {},
   "outputs": [
    {
     "name": "stdout",
     "output_type": "stream",
     "text": [
      "2 *  1 = 2\n",
      "2 *  2 = 4\n",
      "2 *  3 = 6\n",
      "2 *  4 = 8\n",
      "2 *  5 = 10\n",
      "2 *  6 = 12\n",
      "2 *  7 = 14\n",
      "2 *  8 = 16\n",
      "2 *  9 = 18\n",
      "2 *  10 = 20\n"
     ]
    }
   ],
   "source": [
    "for i in range(1,11):\n",
    "    print(\"2 * \",i, \"=\",2*i)"
   ]
  },
  {
   "cell_type": "code",
   "execution_count": 1,
   "id": "f09de036",
   "metadata": {},
   "outputs": [],
   "source": [
    "my_list = [2,67,73,90.45,22.7,\"hello\",\"lets see\",[5,9,2],\"yeah\"]"
   ]
  },
  {
   "cell_type": "code",
   "execution_count": 2,
   "id": "e10b3f2b",
   "metadata": {},
   "outputs": [
    {
     "name": "stdout",
     "output_type": "stream",
     "text": [
      "[2, 67, 73]\n",
      "[90.45, 22.7]\n",
      "['hello', 'lets see', 'yeah']\n"
     ]
    }
   ],
   "source": [
    "# knowledge of for loop\n",
    "# knowledge of append function\n",
    "int_list = []\n",
    "float_list = []\n",
    "str_list = []\n",
    "for i in my_list:\n",
    "    if type(i) == int:\n",
    "        int_list.append(i)\n",
    "    elif type(i) == float:\n",
    "        float_list.append(i)\n",
    "    elif type(i) == str:\n",
    "        str_list.append(i)\n",
    "print(int_list)\n",
    "print(float_list)\n",
    "print(str_list)"
   ]
  },
  {
   "cell_type": "code",
   "execution_count": 3,
   "id": "1b29fba6",
   "metadata": {},
   "outputs": [],
   "source": [
    "def myfunction():\n",
    "    return \"faiz khatri\""
   ]
  },
  {
   "cell_type": "code",
   "execution_count": 4,
   "id": "08147ca8",
   "metadata": {},
   "outputs": [
    {
     "data": {
      "text/plain": [
       "'faiz khatri'"
      ]
     },
     "execution_count": 4,
     "metadata": {},
     "output_type": "execute_result"
    }
   ],
   "source": [
    "myfunction()"
   ]
  },
  {
   "cell_type": "code",
   "execution_count": 5,
   "id": "32cee4b4",
   "metadata": {},
   "outputs": [],
   "source": [
    "def mathfunction(number1, number2):\n",
    "    s = number1 + number2\n",
    "    return s"
   ]
  },
  {
   "cell_type": "code",
   "execution_count": 6,
   "id": "68b1df60",
   "metadata": {},
   "outputs": [
    {
     "data": {
      "text/plain": [
       "10"
      ]
     },
     "execution_count": 6,
     "metadata": {},
     "output_type": "execute_result"
    }
   ],
   "source": [
    "mathfunction(3,7)"
   ]
  },
  {
   "cell_type": "code",
   "execution_count": 7,
   "id": "594503dd",
   "metadata": {},
   "outputs": [],
   "source": [
    "def mathfunction(number1, number2, operation):\n",
    "    if operation == \"add\":\n",
    "        s = number1 + number2\n",
    "    elif operation == \"sub\":\n",
    "        s = number1 - number2\n",
    "    elif operation == \"Multiply\":\n",
    "        s = number1 * number2       \n",
    "    return s"
   ]
  },
  {
   "cell_type": "code",
   "execution_count": 9,
   "id": "40f7bae6",
   "metadata": {},
   "outputs": [
    {
     "data": {
      "text/plain": [
       "60"
      ]
     },
     "execution_count": 9,
     "metadata": {},
     "output_type": "execute_result"
    }
   ],
   "source": [
    "mathfunction(10,6,\"Multiply\")"
   ]
  },
  {
   "cell_type": "code",
   "execution_count": 15,
   "id": "aca35127",
   "metadata": {},
   "outputs": [],
   "source": [
    "# libraries\n",
    "\n",
    "## machine learning librraries\n",
    "    # pandas\n",
    "    # numpy\n",
    "    # matplotlib / seaborn\n",
    "    # sklearn\n",
    "    \n",
    "## Deep Learning\n",
    "    # tensorflow / keras\n",
    "    # pandas\n",
    "    # numpy\n",
    "    # matplotlib / seaborn\n",
    "\n",
    "## computer Vision\n",
    "    # opencv (cv2)\n",
    "\n",
    "## NLP \n",
    "    # NLTK\n",
    "    \n",
    "## Generative AI\n",
    "    # Transformers Library\n",
    "    # pythorch\n",
    "    # openai\n",
    "    # hugging face\n",
    "    # LLM (prompt Engineering)\n",
    "    \n",
    "## Deployment\n",
    "    # hugging face deployment (streamlit)\n",
    "    \n",
    "## Maths for AI"
   ]
  },
  {
   "cell_type": "code",
   "execution_count": 13,
   "id": "b8cddc3a",
   "metadata": {},
   "outputs": [],
   "source": [
    "! pip install pandas"
   ]
  },
  {
   "cell_type": "code",
   "execution_count": 16,
   "id": "f47d92d5",
   "metadata": {},
   "outputs": [],
   "source": [
    "import pandas as pd"
   ]
  },
  {
   "cell_type": "code",
   "execution_count": null,
   "id": "e80e2e3b",
   "metadata": {},
   "outputs": [],
   "source": []
  },
  {
   "cell_type": "code",
   "execution_count": 23,
   "id": "3936c405",
   "metadata": {},
   "outputs": [],
   "source": [
    "data = pd.read_csv(\"Advertising Budget and Sales.csv\",index_col=0)"
   ]
  },
  {
   "cell_type": "code",
   "execution_count": 25,
   "id": "b961e90d",
   "metadata": {},
   "outputs": [
    {
     "data": {
      "text/html": [
       "<div>\n",
       "<style scoped>\n",
       "    .dataframe tbody tr th:only-of-type {\n",
       "        vertical-align: middle;\n",
       "    }\n",
       "\n",
       "    .dataframe tbody tr th {\n",
       "        vertical-align: top;\n",
       "    }\n",
       "\n",
       "    .dataframe thead th {\n",
       "        text-align: right;\n",
       "    }\n",
       "</style>\n",
       "<table border=\"1\" class=\"dataframe\">\n",
       "  <thead>\n",
       "    <tr style=\"text-align: right;\">\n",
       "      <th></th>\n",
       "      <th>TV Ad Budget ($)</th>\n",
       "      <th>Radio Ad Budget ($)</th>\n",
       "      <th>Newspaper Ad Budget ($)</th>\n",
       "      <th>Sales ($)</th>\n",
       "    </tr>\n",
       "  </thead>\n",
       "  <tbody>\n",
       "    <tr>\n",
       "      <th>1</th>\n",
       "      <td>230.1</td>\n",
       "      <td>37.8</td>\n",
       "      <td>69.2</td>\n",
       "      <td>22.1</td>\n",
       "    </tr>\n",
       "    <tr>\n",
       "      <th>2</th>\n",
       "      <td>44.5</td>\n",
       "      <td>39.3</td>\n",
       "      <td>45.1</td>\n",
       "      <td>10.4</td>\n",
       "    </tr>\n",
       "    <tr>\n",
       "      <th>3</th>\n",
       "      <td>17.2</td>\n",
       "      <td>45.9</td>\n",
       "      <td>69.3</td>\n",
       "      <td>9.3</td>\n",
       "    </tr>\n",
       "    <tr>\n",
       "      <th>4</th>\n",
       "      <td>151.5</td>\n",
       "      <td>41.3</td>\n",
       "      <td>58.5</td>\n",
       "      <td>18.5</td>\n",
       "    </tr>\n",
       "    <tr>\n",
       "      <th>5</th>\n",
       "      <td>180.8</td>\n",
       "      <td>10.8</td>\n",
       "      <td>58.4</td>\n",
       "      <td>12.9</td>\n",
       "    </tr>\n",
       "  </tbody>\n",
       "</table>\n",
       "</div>"
      ],
      "text/plain": [
       "   TV Ad Budget ($)  Radio Ad Budget ($)  Newspaper Ad Budget ($)  Sales ($)\n",
       "1             230.1                 37.8                     69.2       22.1\n",
       "2              44.5                 39.3                     45.1       10.4\n",
       "3              17.2                 45.9                     69.3        9.3\n",
       "4             151.5                 41.3                     58.5       18.5\n",
       "5             180.8                 10.8                     58.4       12.9"
      ]
     },
     "execution_count": 25,
     "metadata": {},
     "output_type": "execute_result"
    }
   ],
   "source": [
    "data.head(5)"
   ]
  },
  {
   "cell_type": "code",
   "execution_count": 26,
   "id": "90628295",
   "metadata": {},
   "outputs": [
    {
     "data": {
      "text/html": [
       "<div>\n",
       "<style scoped>\n",
       "    .dataframe tbody tr th:only-of-type {\n",
       "        vertical-align: middle;\n",
       "    }\n",
       "\n",
       "    .dataframe tbody tr th {\n",
       "        vertical-align: top;\n",
       "    }\n",
       "\n",
       "    .dataframe thead th {\n",
       "        text-align: right;\n",
       "    }\n",
       "</style>\n",
       "<table border=\"1\" class=\"dataframe\">\n",
       "  <thead>\n",
       "    <tr style=\"text-align: right;\">\n",
       "      <th></th>\n",
       "      <th>TV Ad Budget ($)</th>\n",
       "      <th>Radio Ad Budget ($)</th>\n",
       "      <th>Newspaper Ad Budget ($)</th>\n",
       "      <th>Sales ($)</th>\n",
       "    </tr>\n",
       "  </thead>\n",
       "  <tbody>\n",
       "    <tr>\n",
       "      <th>191</th>\n",
       "      <td>39.5</td>\n",
       "      <td>41.1</td>\n",
       "      <td>5.8</td>\n",
       "      <td>10.8</td>\n",
       "    </tr>\n",
       "    <tr>\n",
       "      <th>192</th>\n",
       "      <td>75.5</td>\n",
       "      <td>10.8</td>\n",
       "      <td>6.0</td>\n",
       "      <td>9.9</td>\n",
       "    </tr>\n",
       "    <tr>\n",
       "      <th>193</th>\n",
       "      <td>17.2</td>\n",
       "      <td>4.1</td>\n",
       "      <td>31.6</td>\n",
       "      <td>5.9</td>\n",
       "    </tr>\n",
       "    <tr>\n",
       "      <th>194</th>\n",
       "      <td>166.8</td>\n",
       "      <td>42.0</td>\n",
       "      <td>3.6</td>\n",
       "      <td>19.6</td>\n",
       "    </tr>\n",
       "    <tr>\n",
       "      <th>195</th>\n",
       "      <td>149.7</td>\n",
       "      <td>35.6</td>\n",
       "      <td>6.0</td>\n",
       "      <td>17.3</td>\n",
       "    </tr>\n",
       "    <tr>\n",
       "      <th>196</th>\n",
       "      <td>38.2</td>\n",
       "      <td>3.7</td>\n",
       "      <td>13.8</td>\n",
       "      <td>7.6</td>\n",
       "    </tr>\n",
       "    <tr>\n",
       "      <th>197</th>\n",
       "      <td>94.2</td>\n",
       "      <td>4.9</td>\n",
       "      <td>8.1</td>\n",
       "      <td>9.7</td>\n",
       "    </tr>\n",
       "    <tr>\n",
       "      <th>198</th>\n",
       "      <td>177.0</td>\n",
       "      <td>9.3</td>\n",
       "      <td>6.4</td>\n",
       "      <td>12.8</td>\n",
       "    </tr>\n",
       "    <tr>\n",
       "      <th>199</th>\n",
       "      <td>283.6</td>\n",
       "      <td>42.0</td>\n",
       "      <td>66.2</td>\n",
       "      <td>25.5</td>\n",
       "    </tr>\n",
       "    <tr>\n",
       "      <th>200</th>\n",
       "      <td>232.1</td>\n",
       "      <td>8.6</td>\n",
       "      <td>8.7</td>\n",
       "      <td>13.4</td>\n",
       "    </tr>\n",
       "  </tbody>\n",
       "</table>\n",
       "</div>"
      ],
      "text/plain": [
       "     TV Ad Budget ($)  Radio Ad Budget ($)  Newspaper Ad Budget ($)  Sales ($)\n",
       "191              39.5                 41.1                      5.8       10.8\n",
       "192              75.5                 10.8                      6.0        9.9\n",
       "193              17.2                  4.1                     31.6        5.9\n",
       "194             166.8                 42.0                      3.6       19.6\n",
       "195             149.7                 35.6                      6.0       17.3\n",
       "196              38.2                  3.7                     13.8        7.6\n",
       "197              94.2                  4.9                      8.1        9.7\n",
       "198             177.0                  9.3                      6.4       12.8\n",
       "199             283.6                 42.0                     66.2       25.5\n",
       "200             232.1                  8.6                      8.7       13.4"
      ]
     },
     "execution_count": 26,
     "metadata": {},
     "output_type": "execute_result"
    }
   ],
   "source": [
    "data.tail(10)"
   ]
  },
  {
   "cell_type": "code",
   "execution_count": 27,
   "id": "6e3e8224",
   "metadata": {},
   "outputs": [
    {
     "data": {
      "text/plain": [
       "(200, 4)"
      ]
     },
     "execution_count": 27,
     "metadata": {},
     "output_type": "execute_result"
    }
   ],
   "source": [
    "data.shape"
   ]
  },
  {
   "cell_type": "code",
   "execution_count": 28,
   "id": "7207ade2",
   "metadata": {},
   "outputs": [
    {
     "name": "stdout",
     "output_type": "stream",
     "text": [
      "<class 'pandas.core.frame.DataFrame'>\n",
      "Int64Index: 200 entries, 1 to 200\n",
      "Data columns (total 4 columns):\n",
      " #   Column                   Non-Null Count  Dtype  \n",
      "---  ------                   --------------  -----  \n",
      " 0   TV Ad Budget ($)         200 non-null    float64\n",
      " 1   Radio Ad Budget ($)      200 non-null    float64\n",
      " 2   Newspaper Ad Budget ($)  200 non-null    float64\n",
      " 3   Sales ($)                200 non-null    float64\n",
      "dtypes: float64(4)\n",
      "memory usage: 7.8 KB\n"
     ]
    }
   ],
   "source": [
    "data.info()"
   ]
  },
  {
   "cell_type": "code",
   "execution_count": 29,
   "id": "9065bee3",
   "metadata": {},
   "outputs": [
    {
     "data": {
      "text/html": [
       "<div>\n",
       "<style scoped>\n",
       "    .dataframe tbody tr th:only-of-type {\n",
       "        vertical-align: middle;\n",
       "    }\n",
       "\n",
       "    .dataframe tbody tr th {\n",
       "        vertical-align: top;\n",
       "    }\n",
       "\n",
       "    .dataframe thead th {\n",
       "        text-align: right;\n",
       "    }\n",
       "</style>\n",
       "<table border=\"1\" class=\"dataframe\">\n",
       "  <thead>\n",
       "    <tr style=\"text-align: right;\">\n",
       "      <th></th>\n",
       "      <th>TV Ad Budget ($)</th>\n",
       "      <th>Radio Ad Budget ($)</th>\n",
       "      <th>Newspaper Ad Budget ($)</th>\n",
       "      <th>Sales ($)</th>\n",
       "    </tr>\n",
       "  </thead>\n",
       "  <tbody>\n",
       "    <tr>\n",
       "      <th>count</th>\n",
       "      <td>200.000000</td>\n",
       "      <td>200.000000</td>\n",
       "      <td>200.000000</td>\n",
       "      <td>200.000000</td>\n",
       "    </tr>\n",
       "    <tr>\n",
       "      <th>mean</th>\n",
       "      <td>147.042500</td>\n",
       "      <td>23.264000</td>\n",
       "      <td>30.554000</td>\n",
       "      <td>14.022500</td>\n",
       "    </tr>\n",
       "    <tr>\n",
       "      <th>std</th>\n",
       "      <td>85.854236</td>\n",
       "      <td>14.846809</td>\n",
       "      <td>21.778621</td>\n",
       "      <td>5.217457</td>\n",
       "    </tr>\n",
       "    <tr>\n",
       "      <th>min</th>\n",
       "      <td>0.700000</td>\n",
       "      <td>0.000000</td>\n",
       "      <td>0.300000</td>\n",
       "      <td>1.600000</td>\n",
       "    </tr>\n",
       "    <tr>\n",
       "      <th>25%</th>\n",
       "      <td>74.375000</td>\n",
       "      <td>9.975000</td>\n",
       "      <td>12.750000</td>\n",
       "      <td>10.375000</td>\n",
       "    </tr>\n",
       "    <tr>\n",
       "      <th>50%</th>\n",
       "      <td>149.750000</td>\n",
       "      <td>22.900000</td>\n",
       "      <td>25.750000</td>\n",
       "      <td>12.900000</td>\n",
       "    </tr>\n",
       "    <tr>\n",
       "      <th>75%</th>\n",
       "      <td>218.825000</td>\n",
       "      <td>36.525000</td>\n",
       "      <td>45.100000</td>\n",
       "      <td>17.400000</td>\n",
       "    </tr>\n",
       "    <tr>\n",
       "      <th>max</th>\n",
       "      <td>296.400000</td>\n",
       "      <td>49.600000</td>\n",
       "      <td>114.000000</td>\n",
       "      <td>27.000000</td>\n",
       "    </tr>\n",
       "  </tbody>\n",
       "</table>\n",
       "</div>"
      ],
      "text/plain": [
       "       TV Ad Budget ($)  Radio Ad Budget ($)  Newspaper Ad Budget ($)  \\\n",
       "count        200.000000           200.000000               200.000000   \n",
       "mean         147.042500            23.264000                30.554000   \n",
       "std           85.854236            14.846809                21.778621   \n",
       "min            0.700000             0.000000                 0.300000   \n",
       "25%           74.375000             9.975000                12.750000   \n",
       "50%          149.750000            22.900000                25.750000   \n",
       "75%          218.825000            36.525000                45.100000   \n",
       "max          296.400000            49.600000               114.000000   \n",
       "\n",
       "        Sales ($)  \n",
       "count  200.000000  \n",
       "mean    14.022500  \n",
       "std      5.217457  \n",
       "min      1.600000  \n",
       "25%     10.375000  \n",
       "50%     12.900000  \n",
       "75%     17.400000  \n",
       "max     27.000000  "
      ]
     },
     "execution_count": 29,
     "metadata": {},
     "output_type": "execute_result"
    }
   ],
   "source": [
    "data.describe()"
   ]
  },
  {
   "cell_type": "code",
   "execution_count": 30,
   "id": "43bd2c3f",
   "metadata": {},
   "outputs": [
    {
     "data": {
      "text/plain": [
       "TV Ad Budget ($)           0\n",
       "Radio Ad Budget ($)        0\n",
       "Newspaper Ad Budget ($)    0\n",
       "Sales ($)                  0\n",
       "dtype: int64"
      ]
     },
     "execution_count": 30,
     "metadata": {},
     "output_type": "execute_result"
    }
   ],
   "source": [
    "data.isnull().sum()"
   ]
  },
  {
   "cell_type": "code",
   "execution_count": null,
   "id": "a31819a3",
   "metadata": {},
   "outputs": [],
   "source": []
  }
 ],
 "metadata": {
  "kernelspec": {
   "display_name": "Python 3 (ipykernel)",
   "language": "python",
   "name": "python3"
  },
  "language_info": {
   "codemirror_mode": {
    "name": "ipython",
    "version": 3
   },
   "file_extension": ".py",
   "mimetype": "text/x-python",
   "name": "python",
   "nbconvert_exporter": "python",
   "pygments_lexer": "ipython3",
   "version": "3.9.13"
  }
 },
 "nbformat": 4,
 "nbformat_minor": 5
}
